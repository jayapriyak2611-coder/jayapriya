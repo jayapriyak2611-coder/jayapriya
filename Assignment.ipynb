{
 "cells": [
  {
   "cell_type": "markdown",
   "id": "cd401093-6a96-4fa5-8876-f5e3c2ac609f",
   "metadata": {},
   "source": [
    "## Question 1:  Write a Python program to print \"Hello, World!\"."
   ]
  },
  {
   "cell_type": "code",
   "execution_count": 1,
   "id": "4c917856-36fd-47ed-810e-a55779d7047c",
   "metadata": {},
   "outputs": [
    {
     "name": "stdout",
     "output_type": "stream",
     "text": [
      "Hello world\n"
     ]
    }
   ],
   "source": [
    "print(\"Hello world\")"
   ]
  },
  {
   "cell_type": "markdown",
   "id": "663a9765-b7f1-45ea-98f9-99eb74a44a5e",
   "metadata": {},
   "source": [
    "## Question 2: Write a Python program that takes a user input and prints it."
   ]
  },
  {
   "cell_type": "code",
   "execution_count": 3,
   "id": "1bf15239-4969-49eb-bd68-f178fa7754ff",
   "metadata": {},
   "outputs": [
    {
     "name": "stdin",
     "output_type": "stream",
     "text": [
      "Enter any name priya\n"
     ]
    },
    {
     "name": "stdout",
     "output_type": "stream",
     "text": [
      "priya\n"
     ]
    }
   ],
   "source": [
    "A=input(\"Enter any name\")\n",
    "print(A)"
   ]
  },
  {
   "cell_type": "markdown",
   "id": "3b8a2092-9dd2-4cde-b77e-f57a2a0a4fa3",
   "metadata": {},
   "source": [
    "## Question 3: Write a Python program to check if a number is positive, negative, or zero."
   ]
  },
  {
   "cell_type": "code",
   "execution_count": 7,
   "id": "a04346b8-895c-4111-8401-149e73801cce",
   "metadata": {},
   "outputs": [
    {
     "name": "stdin",
     "output_type": "stream",
     "text": [
      "enter any number 0\n"
     ]
    },
    {
     "name": "stdout",
     "output_type": "stream",
     "text": [
      "It is zero\n"
     ]
    }
   ],
   "source": [
    "num=int(input(\"enter any number\"))\n",
    "if num>0:\n",
    "    print(\"It is a positive number\")\n",
    "elif num<0:\n",
    "    print(\"It is a negative number\")\n",
    "else:\n",
    "    print(\"It is zero\")"
   ]
  },
  {
   "cell_type": "markdown",
   "id": "d1d5455b-a33d-41ce-b646-0ca7d53a9cb7",
   "metadata": {},
   "source": [
    "## Question 4:Write a Python program to find the largest of three numbers."
   ]
  },
  {
   "cell_type": "code",
   "execution_count": 10,
   "id": "1026c47f-c3e9-4059-b374-261e5afa383a",
   "metadata": {},
   "outputs": [
    {
     "name": "stdin",
     "output_type": "stream",
     "text": [
      "Enter the number: 7\n",
      "Enter the number: 5\n",
      "Enter the number: 8\n"
     ]
    },
    {
     "name": "stdout",
     "output_type": "stream",
     "text": [
      "c is the largest number\n"
     ]
    }
   ],
   "source": [
    "a = int(input(\"Enter the number:\"))\n",
    "b = int(input(\"Enter the number:\"))\n",
    "c = int(input(\"Enter the number:\"))\n",
    "if a>b and a>c:\n",
    "    print(\"a is the largest number\")\n",
    "elif b>a and b>c:\n",
    "    print(\"b is the largest number\")\n",
    "else:\n",
    "    print(\"c is the largest number\")"
   ]
  },
  {
   "cell_type": "markdown",
   "id": "997c1dec-8f2d-4407-9231-fb929a566a47",
   "metadata": {},
   "source": [
    "## Question 5:Write a Python program to calculate the factorial of a number."
   ]
  },
  {
   "cell_type": "code",
   "execution_count": 11,
   "id": "727c9aca-aaf3-497f-abd4-3ccdd75fd811",
   "metadata": {},
   "outputs": [
    {
     "name": "stdin",
     "output_type": "stream",
     "text": [
      "Enter any number 7\n"
     ]
    },
    {
     "name": "stdout",
     "output_type": "stream",
     "text": [
      "7 = 5040\n"
     ]
    }
   ],
   "source": [
    "number=int(input(\"Enter any number\"))\n",
    "count = 1\n",
    "for i in range(1, number+1):\n",
    "    count = count*i\n",
    "print(f\"{number} = {count}\")"
   ]
  },
  {
   "cell_type": "markdown",
   "id": "4a3d4bbb-3614-4855-9ca6-626a0ece03c5",
   "metadata": {},
   "source": [
    "## Question 6: Create variables of different data types: integer, float, string, and boolean. Print their values and types."
   ]
  },
  {
   "cell_type": "code",
   "execution_count": 12,
   "id": "db1fb093-76cf-4f06-9267-9df92f98880e",
   "metadata": {},
   "outputs": [
    {
     "name": "stdout",
     "output_type": "stream",
     "text": [
      "10 <class 'int'>\n",
      "6.7 <class 'float'>\n",
      "boolean <class 'str'>\n",
      "True <class 'bool'>\n"
     ]
    }
   ],
   "source": [
    "number = 10\n",
    "number_float = 6.7\n",
    "str_format = \"boolean\"\n",
    "bool_format = True\n",
    "print(f\"{number}\", type(number))\n",
    "print(f\"{number_float}\", type(number_float))\n",
    "print(f\"{str_format}\", type(str_format))\n",
    "print(f\"{bool_format}\", type(bool_format))"
   ]
  },
  {
   "cell_type": "markdown",
   "id": "0e2814fa-c677-4f9e-9282-c4b7faaa8b14",
   "metadata": {},
   "source": [
    "## Question 7: Write a Python program to swap the values of two variables"
   ]
  },
  {
   "cell_type": "code",
   "execution_count": 14,
   "id": "d30d826c-9b0a-4eae-b246-4f73225ba9a7",
   "metadata": {},
   "outputs": [
    {
     "name": "stdout",
     "output_type": "stream",
     "text": [
      "string\n",
      "12345\n",
      "12345\n",
      "string\n"
     ]
    }
   ],
   "source": [
    "number_1 =\"string\"\n",
    "number_2 =12345\n",
    "print(number_1)\n",
    "print(number_2)\n",
    "temp = number_1\n",
    "number_1 = number_2\n",
    "number_2 = temp\n",
    "print(number_1)\n",
    "print(number_2)"
   ]
  },
  {
   "cell_type": "markdown",
   "id": "40744ac4-662a-4ad5-8a63-5e89b35afbda",
   "metadata": {},
   "source": [
    "## Question 8: Write a Python program to convert Celsius to Fahrenheit."
   ]
  },
  {
   "cell_type": "code",
   "execution_count": 15,
   "id": "c97e108e-586f-4b00-9f77-fe6fb09927b5",
   "metadata": {},
   "outputs": [
    {
     "name": "stdin",
     "output_type": "stream",
     "text": [
      "Enter the celsius:  78\n"
     ]
    },
    {
     "name": "stdout",
     "output_type": "stream",
     "text": [
      "78.0°C is equal to 172.4°F\n"
     ]
    }
   ],
   "source": [
    "Celsius = float(input(\"Enter the celsius: \"))\n",
    "fah = (Celsius*9/5)+32\n",
    "print(f\"{Celsius}°C is equal to {fah}°F\")"
   ]
  },
  {
   "cell_type": "markdown",
   "id": "3f69a7ab-e78c-4749-b599-47506611288c",
   "metadata": {},
   "source": [
    "## Question 9: Write a Python program to concatenate two strings."
   ]
  },
  {
   "cell_type": "code",
   "execution_count": 16,
   "id": "033158f6-e6dc-4e94-b2bd-c027b79f458c",
   "metadata": {},
   "outputs": [
    {
     "name": "stdout",
     "output_type": "stream",
     "text": [
      "Hello World\n"
     ]
    }
   ],
   "source": [
    "name_1 = \"Hello\"\n",
    "name_2= \"World\"\n",
    "print(name_1+\" \"+name_2)"
   ]
  },
  {
   "cell_type": "markdown",
   "id": "1ac81f83-5ca6-4d2b-b656-cf311332571d",
   "metadata": {},
   "source": [
    "## Question 10: Write a Python program to check if a variable is of a specific data type."
   ]
  },
  {
   "cell_type": "code",
   "execution_count": 21,
   "id": "a020ed86-dbe2-499a-a746-5dc35da1962a",
   "metadata": {},
   "outputs": [
    {
     "name": "stdout",
     "output_type": "stream",
     "text": [
      "11.22 is a float number\n"
     ]
    }
   ],
   "source": [
    "num = 11.22\n",
    "if isinstance(num, float):\n",
    "    print(f\"{num} is a float number\")\n",
    "else:\n",
    "    print(f\"{num} is not a float number\")"
   ]
  },
  {
   "cell_type": "markdown",
   "id": "1aa3faf5-c95d-4667-bbdb-bebac82a4671",
   "metadata": {},
   "source": [
    "## Question 11: Write a Python program to perform arithmetic operations: addition, subtraction, multiplication, and division."
   ]
  },
  {
   "cell_type": "code",
   "execution_count": 23,
   "id": "cd270402-8ba4-4c3a-86be-f25053d350f8",
   "metadata": {},
   "outputs": [
    {
     "name": "stdin",
     "output_type": "stream",
     "text": [
      "Enter the Number:  6\n",
      "Enter the Number:  3\n"
     ]
    },
    {
     "name": "stdout",
     "output_type": "stream",
     "text": [
      "Add the two numbers 9\n",
      "Difference the two numbers 3\n",
      "Multiple the two numbers 18\n",
      "Div the two numbers 2.0\n"
     ]
    }
   ],
   "source": [
    "a = int(input(\"Enter the Number: \"))\n",
    "b = int(input(\"Enter the Number: \"))\n",
    "print(\"Add the two numbers\",a+b)\n",
    "print(\"Difference the two numbers\",a-b)\n",
    "print(\"Multiple the two numbers\",a*b)\n",
    "print(\"Div the two numbers\",a/b)"
   ]
  },
  {
   "cell_type": "markdown",
   "id": "02ffd6e0-ea6a-4305-a38b-e4d1d4afe03c",
   "metadata": {},
   "source": [
    "## Question 12: Write a Python program to demonstrate comparison operators: equal to, not equal to, greater than, less than."
   ]
  },
  {
   "cell_type": "code",
   "execution_count": 25,
   "id": "d2bff56b-5f85-41ad-8e86-517eadb2cede",
   "metadata": {},
   "outputs": [
    {
     "name": "stdout",
     "output_type": "stream",
     "text": [
      "False\n",
      "False\n",
      "True\n",
      "True\n"
     ]
    }
   ],
   "source": [
    "a = 10\n",
    "b = 20\n",
    "print(a == b)\n",
    "print(a >= b)\n",
    "print(a <= b)\n",
    "print(a != b)"
   ]
  },
  {
   "cell_type": "markdown",
   "id": "faeec64b-7f9c-470b-b537-ad7261f142df",
   "metadata": {},
   "source": [
    "## Question 13: Write a Python program to demonstrate logical operators: and, or, not."
   ]
  },
  {
   "cell_type": "code",
   "execution_count": 26,
   "id": "e8fba851-1afc-4f36-b42c-efa3a7f1bc8a",
   "metadata": {},
   "outputs": [
    {
     "name": "stdout",
     "output_type": "stream",
     "text": [
      "10 and 20 20\n",
      "10 and 20 False\n",
      "10 and 20 10\n"
     ]
    }
   ],
   "source": [
    "a = 10\n",
    "b = 20\n",
    "print(f\"{a} and {b}\",a and b)\n",
    "print(f\"{a} and {b}\",not b)\n",
    "print(f\"{a} and {b}\",a or b)"
   ]
  },
  {
   "cell_type": "markdown",
   "id": "591afa77-da95-4797-a1d8-b7a5387a9b13",
   "metadata": {},
   "source": [
    "## Question 14: Write a Python program to calculate the square of a number."
   ]
  },
  {
   "cell_type": "code",
   "execution_count": 27,
   "id": "817efde1-36e5-4d97-8274-0b438ba906b2",
   "metadata": {},
   "outputs": [
    {
     "name": "stdin",
     "output_type": "stream",
     "text": [
      "Enter The number:  7\n"
     ]
    },
    {
     "name": "stdout",
     "output_type": "stream",
     "text": [
      "The square 7 is 49\n"
     ]
    }
   ],
   "source": [
    "num = int(input(\"Enter The number: \"))\n",
    "square = num**2\n",
    "print(f\"The square {num} is {square}\")"
   ]
  },
  {
   "cell_type": "markdown",
   "id": "bf7350d8-a332-4643-8b8c-a0ba41e5e130",
   "metadata": {},
   "source": [
    "## Question 15: Write a Python program to check if a number is even or odd."
   ]
  },
  {
   "cell_type": "code",
   "execution_count": 28,
   "id": "3553cdde-6a5d-4272-ac43-3d5efdca9988",
   "metadata": {},
   "outputs": [
    {
     "name": "stdin",
     "output_type": "stream",
     "text": [
      "enter any number 78\n"
     ]
    },
    {
     "name": "stdout",
     "output_type": "stream",
     "text": [
      "The number is Even\n"
     ]
    }
   ],
   "source": [
    "num = int(input(\"enter any number\"))\n",
    "if num%2==0:\n",
    "    print(\"The number is Even\")\n",
    "else:\n",
    "    print(\"The number is Odd\")"
   ]
  },
  {
   "cell_type": "markdown",
   "id": "59d9db63-e705-481b-9c84-711519ac2fa9",
   "metadata": {},
   "source": [
    "## Question 16: Write a Python program to find the sum of the first n natural numbers."
   ]
  },
  {
   "cell_type": "code",
   "execution_count": 30,
   "id": "eac1a62c-9dca-4f02-bc63-9138f0ae17f6",
   "metadata": {},
   "outputs": [
    {
     "name": "stdout",
     "output_type": "stream",
     "text": [
      "55\n"
     ]
    }
   ],
   "source": [
    "count = 0\n",
    "for i in range(1,11):\n",
    "    count = count+i\n",
    "print(count)"
   ]
  },
  {
   "cell_type": "markdown",
   "id": "8374adf7-ab07-4f53-8335-e6c0bb66bed9",
   "metadata": {},
   "source": [
    "## Question 17: Write a Python program to check if a year is a leap year."
   ]
  },
  {
   "cell_type": "code",
   "execution_count": 31,
   "id": "83b981b0-880d-4bbd-9eba-1d94b31cff6a",
   "metadata": {},
   "outputs": [
    {
     "name": "stdin",
     "output_type": "stream",
     "text": [
      "Enter the year: 2024\n"
     ]
    },
    {
     "name": "stdout",
     "output_type": "stream",
     "text": [
      "2024 is the Leap year\n"
     ]
    }
   ],
   "source": [
    "year = int(input(\"Enter the year:\"))\n",
    "if(year%4==0 and year%100!=0) or (year%400 == 0):\n",
    "    print(f\"{year} is the Leap year\")\n",
    "else:\n",
    "    print(f\"{year} is not a leap year\")"
   ]
  },
  {
   "cell_type": "markdown",
   "id": "2eedeae6-41f7-462d-a032-a16a28c32969",
   "metadata": {},
   "source": [
    "## Question 18: Write a Python program to reverse a string."
   ]
  },
  {
   "cell_type": "code",
   "execution_count": 32,
   "id": "bbd4f498-df85-4adf-ba1a-080ca03fc49e",
   "metadata": {},
   "outputs": [
    {
     "name": "stdout",
     "output_type": "stream",
     "text": [
      "Reverse string ygolonhcetalixen\n"
     ]
    }
   ],
   "source": [
    "normal_str = \"nexilatechnology\"\n",
    "reverse_str = normal_str[::-1]\n",
    "print(f\"Reverse string {reverse_str}\")"
   ]
  },
  {
   "cell_type": "markdown",
   "id": "8874d3c8-735f-412e-9a8c-ffe6508392b4",
   "metadata": {},
   "source": [
    "## Question 19: Write a Python program to check if a string is a palindrome."
   ]
  },
  {
   "cell_type": "code",
   "execution_count": 33,
   "id": "9d14e7d1-6d67-42cc-80ca-a5dd1e667dce",
   "metadata": {},
   "outputs": [
    {
     "name": "stdin",
     "output_type": "stream",
     "text": [
      "Enter the word that you check palindrome or non palindrome:  mom\n"
     ]
    },
    {
     "name": "stdout",
     "output_type": "stream",
     "text": [
      "mom is the palindrome\n"
     ]
    }
   ],
   "source": [
    "normal_str = input(\"Enter the word that you check palindrome or non palindrome: \").lower()\n",
    "if (normal_str == normal_str[::-1]):\n",
    "    print(f\"{normal_str} is the palindrome\")\n",
    "else:\n",
    "    print(f\"{normal_str} is the not palindrome\")\n"
   ]
  },
  {
   "cell_type": "markdown",
   "id": "8e1e645c-6f26-49a4-aeae-0ec0c97d09a4",
   "metadata": {},
   "source": [
    "## Question 20: Write a Python program to sort a list of numbers in ascending order."
   ]
  },
  {
   "cell_type": "code",
   "execution_count": 34,
   "id": "39ef4941-e501-4459-bf77-35e6edfac1ce",
   "metadata": {},
   "outputs": [
    {
     "name": "stdout",
     "output_type": "stream",
     "text": [
      "Sorted list (ascending order): [1, 2, 5, 5, 6, 9]\n"
     ]
    }
   ],
   "source": [
    "numbers = [5, 2, 9, 1, 5, 6]\n",
    "numbers.sort()\n",
    "print(\"Sorted list (ascending order):\", numbers)"
   ]
  },
  {
   "cell_type": "code",
   "execution_count": null,
   "id": "72d8f561-a7ba-4cf3-9ce7-e1d0a46d9c14",
   "metadata": {},
   "outputs": [],
   "source": []
  }
 ],
 "metadata": {
  "kernelspec": {
   "display_name": "Python 3 (ipykernel)",
   "language": "python",
   "name": "python3"
  },
  "language_info": {
   "codemirror_mode": {
    "name": "ipython",
    "version": 3
   },
   "file_extension": ".py",
   "mimetype": "text/x-python",
   "name": "python",
   "nbconvert_exporter": "python",
   "pygments_lexer": "ipython3",
   "version": "3.13.5"
  }
 },
 "nbformat": 4,
 "nbformat_minor": 5
}
