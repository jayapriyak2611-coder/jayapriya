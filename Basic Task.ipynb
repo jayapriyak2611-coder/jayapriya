{
 "cells": [
  {
   "cell_type": "markdown",
   "id": "3f2f4575-8e6e-487f-a781-60bebe762b60",
   "metadata": {},
   "source": [
    "# Task 1"
   ]
  },
  {
   "cell_type": "code",
   "execution_count": 3,
   "id": "b8452b17-0e45-42fe-b4a2-6c81e22a12c8",
   "metadata": {},
   "outputs": [],
   "source": [
    "driver_name = \"Raja\"  #String\n",
    "pick_up_point = \"Tambaram\"   #string\n",
    "drop_point = \"vandaloor\"   #string\n",
    "distance = \"4km\" #integer string\n",
    "time = 5       #int\n",
    "fare = 1000    #int  \n",
    "vechile_time = \"1 hours\"   #integer string\n",
    "status = True   #boolean\n"
   ]
  },
  {
   "cell_type": "code",
   "execution_count": 5,
   "id": "7008af51-6749-49cc-9ac1-048fffa013b8",
   "metadata": {},
   "outputs": [
    {
     "name": "stdout",
     "output_type": "stream",
     "text": [
      "Raja\n",
      "Tambaram\n",
      "vandaloor\n",
      "4km\n",
      "5\n",
      "1000\n",
      "1 hours\n",
      "True\n"
     ]
    }
   ],
   "source": [
    "print(driver_name)\n",
    "print(pick_up_point)\n",
    "print(drop_point)\n",
    "print(distance)\n",
    "print(time)\n",
    "print(fare)\n",
    "print(vechile_time)\n",
    "print(status)"
   ]
  },
  {
   "cell_type": "markdown",
   "id": "120b075b-e284-4732-b622-1cfebdb7f496",
   "metadata": {},
   "source": [
    "# Task 2 - Simple calculator"
   ]
  },
  {
   "cell_type": "code",
   "execution_count": 8,
   "id": "cb8ff25b-5310-437d-8be2-cd56fbcb0464",
   "metadata": {},
   "outputs": [
    {
     "name": "stdout",
     "output_type": "stream",
     "text": [
      "Addition of the the no is 30 Subtraction of the no is 10 Multiplication of the no is 200 Division of the no is 2.0\n"
     ]
    }
   ],
   "source": [
    "a=20\n",
    "b=10\n",
    "print(\"Addition of the the no is\",a+b,\"Subtraction of the no is\",a-b,\"Multiplication of the no is\",a*b,\"Division of the no is\",a/b)"
   ]
  },
  {
   "cell_type": "code",
   "execution_count": 9,
   "id": "e437182c-b6e0-4eaf-ab1e-3e7a386c1ab5",
   "metadata": {},
   "outputs": [
    {
     "name": "stdout",
     "output_type": "stream",
     "text": [
      "Addition of the the no is 30 \n",
      "Subtraction of the no is 10 \n",
      "Multiplication of the no is 200 \n",
      "Division of the no is 2.0\n"
     ]
    }
   ],
   "source": [
    "a=20\n",
    "b=10\n",
    "print(f\"Addition of the the no is {a+b} \\nSubtraction of the no is {a-b} \\nMultiplication of the no is {a*b} \\nDivision of the no is {a/b}\")"
   ]
  },
  {
   "cell_type": "markdown",
   "id": "7764bb64-92d6-47da-a362-344917b51453",
   "metadata": {},
   "source": [
    "# Task 3"
   ]
  },
  {
   "cell_type": "code",
   "execution_count": 14,
   "id": "41c8d49d-ff65-4850-9b2d-0157ca239958",
   "metadata": {},
   "outputs": [
    {
     "name": "stdout",
     "output_type": "stream",
     "text": [
      "Driver name is kums and the Pick up point is Tambaram and the Drop point is selaiyur and the Distance is 4 km and the Time is 7pm and the fare is 500 and the Vechile time is 1.3 and the Status is True\n"
     ]
    }
   ],
   "source": [
    "Driver_name = \"kums\"\n",
    "Pick_up_point = \"Tambaram\"\n",
    "Drop_point = \"selaiyur\"\n",
    "Distance = \"4 km\"\n",
    "Time = \"7pm\"\n",
    "Fare = 500\n",
    "Vechile_time = 1.30\n",
    "Status = True\n",
    "print(f\"Driver name is {Driver_name} and the Pick up point is {Pick_up_point} and the Drop point is {Drop_point} and the Distance is {Distance} and the Time is {Time} and the fare is {Fare} and the Vechile time is {Vechile_time} and the Status is {Status}\")"
   ]
  },
  {
   "cell_type": "code",
   "execution_count": 19,
   "id": "bbb2366c-ee1a-4e42-b98a-7d1a5a2a4634",
   "metadata": {},
   "outputs": [
    {
     "name": "stdout",
     "output_type": "stream",
     "text": [
      "Driver name is kums \n",
      "The Pick up point is Tambaram \n",
      "The Drop point is selaiyur \n",
      "The Distance is 4 km \n",
      "The Time is 7pm \n",
      "The fare is 500 \n",
      "The Vechile time is 1.3 \n",
      "The Status is True\n"
     ]
    }
   ],
   "source": [
    "Driver_name = \"kums\"\n",
    "Pick_up_point = \"Tambaram\"\n",
    "Drop_point = \"selaiyur\"\n",
    "Distance = \"4 km\"\n",
    "Time = \"7pm\"\n",
    "Fare = 500\n",
    "Vechile_time = 1.30\n",
    "Status = True\n",
    "print(f\"Driver name is {Driver_name} \\nThe Pick up point is {Pick_up_point} \\nThe Drop point is {Drop_point} \\nThe Distance is {Distance} \\nThe Time is {Time} \\nThe fare is {Fare} \\nThe Vechile time is {Vechile_time} \\nThe Status is {Status}\")"
   ]
  },
  {
   "cell_type": "code",
   "execution_count": null,
   "id": "15d94ef6-e7b3-402a-8b33-03e8050b41a3",
   "metadata": {},
   "outputs": [],
   "source": []
  }
 ],
 "metadata": {
  "kernelspec": {
   "display_name": "Python 3 (ipykernel)",
   "language": "python",
   "name": "python3"
  },
  "language_info": {
   "codemirror_mode": {
    "name": "ipython",
    "version": 3
   },
   "file_extension": ".py",
   "mimetype": "text/x-python",
   "name": "python",
   "nbconvert_exporter": "python",
   "pygments_lexer": "ipython3",
   "version": "3.13.5"
  }
 },
 "nbformat": 4,
 "nbformat_minor": 5
}
