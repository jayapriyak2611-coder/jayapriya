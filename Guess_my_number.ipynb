{
 "cells": [
  {
   "cell_type": "code",
   "execution_count": 5,
   "id": "8814d401-9097-4b2a-9d09-57fe1eea9fb8",
   "metadata": {},
   "outputs": [
    {
     "name": "stdout",
     "output_type": "stream",
     "text": [
      "Welcome to Guess my number game\n"
     ]
    },
    {
     "name": "stdin",
     "output_type": "stream",
     "text": [
      "Enter any number between 1 to 100 78\n"
     ]
    },
    {
     "name": "stdout",
     "output_type": "stream",
     "text": [
      "My number Lesser than 78\n"
     ]
    },
    {
     "name": "stdin",
     "output_type": "stream",
     "text": [
      "Enter any number between 1 to 100 43\n"
     ]
    },
    {
     "name": "stdout",
     "output_type": "stream",
     "text": [
      "My number Lesser than 43\n"
     ]
    },
    {
     "name": "stdin",
     "output_type": "stream",
     "text": [
      "Enter any number between 1 to 100 21\n"
     ]
    },
    {
     "name": "stdout",
     "output_type": "stream",
     "text": [
      "My number is Greater than 21\n"
     ]
    },
    {
     "name": "stdin",
     "output_type": "stream",
     "text": [
      "Enter any number between 1 to 100 90\n"
     ]
    },
    {
     "name": "stdout",
     "output_type": "stream",
     "text": [
      "My number Lesser than 90\n"
     ]
    },
    {
     "name": "stdin",
     "output_type": "stream",
     "text": [
      "Enter any number between 1 to 100 34\n"
     ]
    },
    {
     "name": "stdout",
     "output_type": "stream",
     "text": [
      "My number Lesser than 34\n"
     ]
    }
   ],
   "source": [
    "print(\"Welcome to Guess my number game\")\n",
    "#while True:\n",
    "for i in range(1,6):\n",
    "    Guess=int(input(\"Enter any number between 1 to 100\"))\n",
    "    if Guess<26:\n",
    "        print(f\"My number is Greater than {Guess}\")\n",
    "    elif Guess>26:\n",
    "        print(f\"My number Lesser than {Guess}\")\n",
    "    elif Guess==26:\n",
    "        print(\"your won\")\n",
    "        break "
   ]
  },
  {
   "cell_type": "code",
   "execution_count": 10,
   "id": "bddbbaf9-6604-40f8-a9e4-3c82a0c8a9e6",
   "metadata": {},
   "outputs": [
    {
     "name": "stdout",
     "output_type": "stream",
     "text": [
      "9\n"
     ]
    }
   ],
   "source": [
    "import random\n",
    "secret_number=random.randint(1,10)\n",
    "print(secret_number)\n"
   ]
  },
  {
   "cell_type": "code",
   "execution_count": 16,
   "id": "2834c0d4-3774-45ec-8b12-165f8e8bc7f9",
   "metadata": {},
   "outputs": [
    {
     "name": "stdin",
     "output_type": "stream",
     "text": [
      "enter any number 1\n",
      "enter any number 20\n",
      "enter how many chances you want 7\n",
      "enter any number between 1 and 20 18\n"
     ]
    },
    {
     "name": "stdout",
     "output_type": "stream",
     "text": [
      "your number is greater than secret number\n"
     ]
    },
    {
     "name": "stdin",
     "output_type": "stream",
     "text": [
      "enter any number between 1 and 20 15\n"
     ]
    },
    {
     "name": "stdout",
     "output_type": "stream",
     "text": [
      "your number is greater than secret number\n"
     ]
    },
    {
     "name": "stdin",
     "output_type": "stream",
     "text": [
      "enter any number between 1 and 20 10\n"
     ]
    },
    {
     "name": "stdout",
     "output_type": "stream",
     "text": [
      "your number is greater than secret number\n"
     ]
    },
    {
     "name": "stdin",
     "output_type": "stream",
     "text": [
      "enter any number between 1 and 20 9\n"
     ]
    },
    {
     "name": "stdout",
     "output_type": "stream",
     "text": [
      "your number is greater than secret number\n"
     ]
    },
    {
     "name": "stdin",
     "output_type": "stream",
     "text": [
      "enter any number between 1 and 20 6\n"
     ]
    },
    {
     "name": "stdout",
     "output_type": "stream",
     "text": [
      "your number is greater than secret number\n"
     ]
    },
    {
     "name": "stdin",
     "output_type": "stream",
     "text": [
      "enter any number between 1 and 20 4\n"
     ]
    },
    {
     "name": "stdout",
     "output_type": "stream",
     "text": [
      "your number is greater than secret number\n"
     ]
    },
    {
     "name": "stdin",
     "output_type": "stream",
     "text": [
      "enter any number between 1 and 20 2\n"
     ]
    },
    {
     "name": "stdout",
     "output_type": "stream",
     "text": [
      "your number is greater than secret number\n",
      "your chances are over,Try again\n"
     ]
    }
   ],
   "source": [
    "import random\n",
    "start=int(input(\"enter any number\"))\n",
    "end=int(input(\"enter any number\"))\n",
    "Secret_number=random.randint(start,end)\n",
    "n=int(input(\"enter how many chances you want\"))\n",
    "for i in range(n):\n",
    "    Guess_number=int(input(f\"enter any number between {start} and {end}\"))\n",
    "    if Secret_number>Guess_number:\n",
    "        print(\"your number is lesser than secret number\")\n",
    "    elif Secret_number<Guess_number:\n",
    "        print(\"your number is greater than secret number\")\n",
    "    elif Secret_number==Guess_number:\n",
    "        print(f\"your Guess number {Guess_number} is correct\")\n",
    "        break\n",
    "print(\"your chances are over,Try again\")"
   ]
  },
  {
   "cell_type": "code",
   "execution_count": null,
   "id": "b8cd3023-e879-4e1b-8ce3-bd57b0cb8f8e",
   "metadata": {},
   "outputs": [],
   "source": []
  }
 ],
 "metadata": {
  "kernelspec": {
   "display_name": "Python 3 (ipykernel)",
   "language": "python",
   "name": "python3"
  },
  "language_info": {
   "codemirror_mode": {
    "name": "ipython",
    "version": 3
   },
   "file_extension": ".py",
   "mimetype": "text/x-python",
   "name": "python",
   "nbconvert_exporter": "python",
   "pygments_lexer": "ipython3",
   "version": "3.13.5"
  }
 },
 "nbformat": 4,
 "nbformat_minor": 5
}
