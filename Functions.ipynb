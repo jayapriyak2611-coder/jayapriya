{
 "cells": [
  {
   "cell_type": "markdown",
   "id": "311ab1c9-622f-4c37-be74-cac70ab433d4",
   "metadata": {},
   "source": [
    "# functions"
   ]
  },
  {
   "cell_type": "code",
   "execution_count": 2,
   "id": "5483774d-d966-4ff8-86f7-a6be93347019",
   "metadata": {},
   "outputs": [
    {
     "name": "stdout",
     "output_type": "stream",
     "text": [
      "26\n",
      "30\n"
     ]
    }
   ],
   "source": [
    "def add():\n",
    "    a=10\n",
    "    b=20\n",
    "    print(a+b)\n",
    "print(26)\n",
    "add()"
   ]
  },
  {
   "cell_type": "code",
   "execution_count": 5,
   "id": "00e6740b-ce16-421a-8735-6d3e8204f6a6",
   "metadata": {},
   "outputs": [
    {
     "data": {
      "text/plain": [
       "10"
      ]
     },
     "execution_count": 5,
     "metadata": {},
     "output_type": "execute_result"
    }
   ],
   "source": [
    "a=5\n",
    "b=5\n",
    "a+b\n"
   ]
  },
  {
   "cell_type": "code",
   "execution_count": 8,
   "id": "0040127b-dd85-454a-8ec8-ad2c7ee263c8",
   "metadata": {},
   "outputs": [],
   "source": [
    "b=55"
   ]
  },
  {
   "cell_type": "code",
   "execution_count": 9,
   "id": "603be696-a1d9-4e18-beb4-42e22c751af4",
   "metadata": {},
   "outputs": [
    {
     "data": {
      "text/plain": [
       "60"
      ]
     },
     "execution_count": 9,
     "metadata": {},
     "output_type": "execute_result"
    }
   ],
   "source": [
    "a+b"
   ]
  },
  {
   "cell_type": "code",
   "execution_count": 10,
   "id": "cb3bd1fd-d45f-445b-9042-f8486924629f",
   "metadata": {},
   "outputs": [
    {
     "name": "stdout",
     "output_type": "stream",
     "text": [
      "30\n"
     ]
    }
   ],
   "source": [
    "add()"
   ]
  },
  {
   "cell_type": "code",
   "execution_count": 15,
   "id": "fda67c1c-23e0-4cc0-93e2-05c0ba6cca79",
   "metadata": {},
   "outputs": [
    {
     "name": "stdout",
     "output_type": "stream",
     "text": [
      "25\n",
      "0\n",
      "5.0\n"
     ]
    }
   ],
   "source": [
    "def subtract():\n",
    "    a=50\n",
    "    b=25\n",
    "    print(a-b)\n",
    "subtract()\n",
    "def multiply():\n",
    "    a=20\n",
    "    b=0\n",
    "    print(a*b)\n",
    "multiply()\n",
    "def divide():\n",
    "    a=25\n",
    "    b=5\n",
    "    print(a/b)\n",
    "divide()"
   ]
  },
  {
   "cell_type": "markdown",
   "id": "54afe252-caa4-42fa-bdad-cc62cf8b7cd8",
   "metadata": {},
   "source": [
    "# parameters and arguments"
   ]
  },
  {
   "cell_type": "code",
   "execution_count": 19,
   "id": "349d437d-785b-4d0e-9383-00d78b138cb4",
   "metadata": {},
   "outputs": [
    {
     "name": "stdout",
     "output_type": "stream",
     "text": [
      "50\n"
     ]
    }
   ],
   "source": [
    "def add(a,b,c):\n",
    "    print(a+b+c)\n",
    "add(10,15,25)"
   ]
  },
  {
   "cell_type": "code",
   "execution_count": 20,
   "id": "0784e3a3-9d32-43ba-a688-21b0d0243e6d",
   "metadata": {},
   "outputs": [
    {
     "name": "stdout",
     "output_type": "stream",
     "text": [
      "The youngest child is C\n"
     ]
    }
   ],
   "source": [
    "def add(child2,child3,child1):\n",
    "    print(\"The youngest child is\",child3)\n",
    "add(child1=\"A\",child2=\"B\",child3=\"C\")"
   ]
  },
  {
   "cell_type": "code",
   "execution_count": 21,
   "id": "1a00e32c-8fc7-41c3-bad1-99e3613ce8e7",
   "metadata": {},
   "outputs": [
    {
     "name": "stdout",
     "output_type": "stream",
     "text": [
      "C\n"
     ]
    }
   ],
   "source": [
    "def add(child1=\"A\",child2=\"B\",child3=\"C\"):\n",
    "    print(child3)\n",
    "add()"
   ]
  },
  {
   "cell_type": "markdown",
   "id": "155cba10-f98a-40fc-abb9-0e20b4a8e3d6",
   "metadata": {},
   "source": [
    "# odd/even"
   ]
  },
  {
   "cell_type": "code",
   "execution_count": 1,
   "id": "a502f81e-ebf6-4498-982a-6cc2cee154a8",
   "metadata": {},
   "outputs": [
    {
     "name": "stdin",
     "output_type": "stream",
     "text": [
      "enter aany number 7\n"
     ]
    },
    {
     "name": "stdout",
     "output_type": "stream",
     "text": [
      "odd\n"
     ]
    }
   ],
   "source": [
    "def odd_or_even(i):\n",
    "    if i%2==0:\n",
    "        print(\"even\")\n",
    "    else:\n",
    "        print(\"odd\")\n",
    "n=int(input(\"enter aany number\"))\n",
    "odd_or_even(n)  "
   ]
  },
  {
   "cell_type": "code",
   "execution_count": 5,
   "id": "4a0eeeae-e7b7-424d-953e-990d41761d18",
   "metadata": {},
   "outputs": [
    {
     "name": "stdin",
     "output_type": "stream",
     "text": [
      "enter any number 65\n"
     ]
    },
    {
     "name": "stdout",
     "output_type": "stream",
     "text": [
      "odd\n"
     ]
    }
   ],
   "source": [
    "def odd_or_even(i):\n",
    "    if i%2==0:\n",
    "        print(\"even\")\n",
    "    else:\n",
    "        print(\"odd\")\n",
    "odd_or_even(int(input(\"enter any number\")))"
   ]
  },
  {
   "cell_type": "markdown",
   "id": "4b7206ea-91d1-44e3-bb62-249713869691",
   "metadata": {},
   "source": [
    "# over writing"
   ]
  },
  {
   "cell_type": "code",
   "execution_count": 7,
   "id": "1ab6e209-3ca1-4dda-9b9a-8d14692fa079",
   "metadata": {},
   "outputs": [
    {
     "name": "stdout",
     "output_type": "stream",
     "text": [
      "chennai is in India\n"
     ]
    }
   ],
   "source": [
    "def show_country(city,country='India'):\n",
    "    print(f\"{city} is in {country}\")\n",
    "show_country(\"chennai\")"
   ]
  },
  {
   "cell_type": "code",
   "execution_count": 1,
   "id": "69706253-84ce-44ec-b634-cada867b2be2",
   "metadata": {},
   "outputs": [
    {
     "name": "stdout",
     "output_type": "stream",
     "text": [
      "paris is in france\n"
     ]
    }
   ],
   "source": [
    "def show_country(city,country='India'):\n",
    "    print(f\"{city} is in {country}\")\n",
    "show_country(\"paris\",\"france\")"
   ]
  },
  {
   "cell_type": "code",
   "execution_count": 2,
   "id": "e81e4b21-257d-4f70-afdd-2cba2c155a84",
   "metadata": {},
   "outputs": [
    {
     "name": "stdout",
     "output_type": "stream",
     "text": [
      "paris is in france\n"
     ]
    }
   ],
   "source": [
    "def show_country(city,country='India'):\n",
    "    print(f\"{city} is in {country}\")\n",
    "coun=\"france\"\n",
    "show_country(\"paris\",coun)"
   ]
  },
  {
   "cell_type": "markdown",
   "id": "549caa98-e58c-4d0e-966e-10ac46d31058",
   "metadata": {},
   "source": [
    "# arguments-argv"
   ]
  },
  {
   "cell_type": "code",
   "execution_count": 20,
   "id": "24f7eeab-e70b-4d40-a92b-144e56289e8f",
   "metadata": {},
   "outputs": [
    {
     "name": "stdout",
     "output_type": "stream",
     "text": [
      "hi\n",
      "my\n",
      "name\n",
      "is\n",
      "priya\n"
     ]
    }
   ],
   "source": [
    "def my_function(*argv):\n",
    "    for i in argv:\n",
    "        print(i)\n",
    "my_function('hi','my','name','is','priya')"
   ]
  },
  {
   "cell_type": "code",
   "execution_count": 29,
   "id": "a9c65812-5628-461f-bffe-1b9d80ee607c",
   "metadata": {},
   "outputs": [
    {
     "name": "stdout",
     "output_type": "stream",
     "text": [
      "hi\n",
      "my\n",
      "name\n",
      "is\n",
      "priya\n",
      "my name is priya\n"
     ]
    }
   ],
   "source": [
    "def my_function(*argv):\n",
    "    for i in argv:\n",
    "        print(i)\n",
    "    print(\"my name is\",argv[4])\n",
    "my_function('hi','my','name','is','priya')"
   ]
  },
  {
   "cell_type": "code",
   "execution_count": 28,
   "id": "fc6e3ced-12cb-4659-9ef3-d731b6b9f56e",
   "metadata": {},
   "outputs": [
    {
     "name": "stdout",
     "output_type": "stream",
     "text": [
      "I am from america\n",
      "I am from India\n",
      "I am from new-zealand\n",
      "I am from australia\n",
      "I am from switzerland\n",
      "I am from India\n"
     ]
    }
   ],
   "source": [
    "def my_country(country=\"India\"):\n",
    "    print(\"I am from\",country)\n",
    "my_country(\"america\")\n",
    "my_country()\n",
    "my_country(\"new-zealand\")\n",
    "my_country(\"australia\")\n",
    "my_country(\"switzerland\")\n",
    "my_country()"
   ]
  },
  {
   "cell_type": "code",
   "execution_count": 32,
   "id": "13cc7107-84ce-4cab-9425-c18daf26075b",
   "metadata": {},
   "outputs": [
    {
     "name": "stdout",
     "output_type": "stream",
     "text": [
      "function of the program to check the number even or odd\n"
     ]
    }
   ],
   "source": [
    "def oddeven(x):\n",
    "    \"\"\"function of the program to check the number even or odd\"\"\"\n",
    "#a=oddeven\n",
    "print(oddeven.__doc__)"
   ]
  },
  {
   "cell_type": "markdown",
   "id": "775e6091-c6ba-466f-b091-943b4fb15708",
   "metadata": {},
   "source": [
    "# Nested functions"
   ]
  },
  {
   "cell_type": "code",
   "execution_count": 3,
   "id": "4f2cd70d-7a28-4dd3-99d3-a5e80075d871",
   "metadata": {},
   "outputs": [
    {
     "name": "stdout",
     "output_type": "stream",
     "text": [
      "hi f3\n",
      "hi f2\n",
      "hi f1\n"
     ]
    }
   ],
   "source": [
    "def f1():\n",
    "    def f2():\n",
    "        def f3():\n",
    "            print(\"hi f3\")\n",
    "        f3()\n",
    "        print(\"hi f2\")\n",
    "    f2()\n",
    "    print(\"hi f1\") \n",
    "f1()"
   ]
  },
  {
   "cell_type": "code",
   "execution_count": 35,
   "id": "7ce12d9f-a419-4d2c-8c52-4b43244d43e7",
   "metadata": {},
   "outputs": [
    {
     "name": "stdout",
     "output_type": "stream",
     "text": [
      "The loop starts here\n",
      "hi f1\n",
      "hi f2\n",
      "hi f3\n"
     ]
    }
   ],
   "source": [
    "def f1():\n",
    "    def f2():\n",
    "        def f3():\n",
    "            print(\"hi f3\")\n",
    "        print(\"hi f2\")\n",
    "        f3()\n",
    "    print(\"hi f1\")    \n",
    "    f2()\n",
    "print(\"The loop starts here\")    \n",
    "f1()"
   ]
  },
  {
   "cell_type": "code",
   "execution_count": 39,
   "id": "8dc437df-f222-43cc-8a74-e59c28510b78",
   "metadata": {},
   "outputs": [
    {
     "name": "stdout",
     "output_type": "stream",
     "text": [
      "I am a data engineer\n",
      "I am a data analyst\n",
      "I am a data scientist\n",
      "The final value of a is I am a data engineer\n"
     ]
    }
   ],
   "source": [
    "def f1(a):\n",
    "    print(a)\n",
    "    a=\"I am a data analyst\"\n",
    "    print(a)\n",
    "    def f2():\n",
    "        a=\"I am a data scientist\"\n",
    "        print(a)\n",
    "    f2()\n",
    "a=\"I am a data engineer\"\n",
    "f1(a)\n",
    "print(\"The final value of a is\",a)"
   ]
  },
  {
   "cell_type": "code",
   "execution_count": null,
   "id": "932a2a6b-c287-4f80-a0e3-a99e90619ea8",
   "metadata": {},
   "outputs": [],
   "source": []
  }
 ],
 "metadata": {
  "kernelspec": {
   "display_name": "Python 3 (ipykernel)",
   "language": "python",
   "name": "python3"
  },
  "language_info": {
   "codemirror_mode": {
    "name": "ipython",
    "version": 3
   },
   "file_extension": ".py",
   "mimetype": "text/x-python",
   "name": "python",
   "nbconvert_exporter": "python",
   "pygments_lexer": "ipython3",
   "version": "3.13.5"
  }
 },
 "nbformat": 4,
 "nbformat_minor": 5
}
