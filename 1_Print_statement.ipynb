{
 "cells": [
  {
   "cell_type": "markdown",
   "id": "c8408959-fac7-4ae1-9716-1f8a97081aaf",
   "metadata": {},
   "source": [
    "##  Print statement\n",
    "  ### Data Types\n",
    "  #### -->string (\"harshath\")\n",
    "  #### -->integer (999)\n",
    "  #### -->float (88.976)\n",
    "  #### -->boolean (True)"
   ]
  },
  {
   "cell_type": "code",
   "execution_count": 5,
   "id": "442ab275-6dfe-44fc-abc9-66f84cdc7f45",
   "metadata": {},
   "outputs": [
    {
     "name": "stdout",
     "output_type": "stream",
     "text": [
      "harshath\n"
     ]
    }
   ],
   "source": [
    "print(\"harshath\")       #print--> p should be small\n",
    "                        # (\" \")-->string"
   ]
  },
  {
   "cell_type": "code",
   "execution_count": 2,
   "id": "1d1a5b6e-c595-4fd3-9887-230779a63df6",
   "metadata": {},
   "outputs": [
    {
     "name": "stdout",
     "output_type": "stream",
     "text": [
      "55\n"
     ]
    }
   ],
   "source": [
    "print(55)           #(55)-->integer"
   ]
  },
  {
   "cell_type": "code",
   "execution_count": 31,
   "id": "ce6b6bfa-17ce-474b-83ee-b637163b122c",
   "metadata": {},
   "outputs": [
    {
     "name": "stdout",
     "output_type": "stream",
     "text": [
      "8.8\n"
     ]
    }
   ],
   "source": [
    "print(8.8)          #(8.8)-->float"
   ]
  },
  {
   "cell_type": "code",
   "execution_count": 7,
   "id": "7ac4a3d4-3bea-4e4f-880d-f604402253a2",
   "metadata": {},
   "outputs": [
    {
     "name": "stdout",
     "output_type": "stream",
     "text": [
      "True\n"
     ]
    }
   ],
   "source": [
    "print(True)         #(True)-->boolean"
   ]
  },
  {
   "cell_type": "markdown",
   "id": "0d7a1a96-21e2-49dd-b4e9-0ea41fa6a0bf",
   "metadata": {},
   "source": [
    "## Variables\n",
    "  ### Rules\n",
    "  ##### integer cannot be variable\n",
    "  ##### no space btw variable\n",
    "  ##### name12 is correct but 12name is wrong"
   ]
  },
  {
   "cell_type": "code",
   "execution_count": 8,
   "id": "074d663c-e921-430c-9155-0f10d3d3edde",
   "metadata": {},
   "outputs": [
    {
     "name": "stdout",
     "output_type": "stream",
     "text": [
      "55\n"
     ]
    }
   ],
   "source": [
    "x=55\n",
    "print(x)\n"
   ]
  },
  {
   "cell_type": "code",
   "execution_count": 7,
   "id": "d3cbf2fb-1693-432c-816b-5e644932377c",
   "metadata": {},
   "outputs": [
    {
     "name": "stdout",
     "output_type": "stream",
     "text": [
      "True\n"
     ]
    }
   ],
   "source": [
    "a=True\n",
    "print(a)"
   ]
  },
  {
   "cell_type": "code",
   "execution_count": null,
   "id": "d287ad6f-83fe-4d78-8db9-5211d4bcf5ac",
   "metadata": {},
   "outputs": [],
   "source": [
    "Example"
   ]
  },
  {
   "cell_type": "markdown",
   "id": "7236723b-1476-43c5-8561-309da2d24ed6",
   "metadata": {},
   "source": [
    "driver_name = \"Raja\"  #String\n",
    "pick_up_point = \"Tambaram\"   #string\n",
    "drop_point = \"vandaloor\"   #string\n",
    "distance = \"4km\" #integer string\n",
    "time = 5       #int\n",
    "fare = 1000    #int  \n",
    "vechile_time = \"1 hours\"   #integer string\n",
    "status = True   #boolean\n"
   ]
  },
  {
   "cell_type": "code",
   "execution_count": 9,
   "id": "52c881a0-27bb-433d-bc49-626b8843fe78",
   "metadata": {},
   "outputs": [
    {
     "name": "stdout",
     "output_type": "stream",
     "text": [
      "Raja\n",
      "Tambaram\n",
      "vandaloor\n",
      "4km\n",
      "5\n",
      "1000\n",
      "1 hours\n",
      "True\n"
     ]
    }
   ],
   "source": [
    "print(driver_name)\n",
    "print(pick_up_point)\n",
    "print(drop_point)\n",
    "print(distance)\n",
    "print(time)\n",
    "print(fare)\n",
    "print(vechile_time)\n",
    "print(status)"
   ]
  },
  {
   "cell_type": "code",
   "execution_count": 25,
   "id": "8f60d651-11d7-4d47-a1f7-b4cda9997b04",
   "metadata": {},
   "outputs": [
    {
     "name": "stdout",
     "output_type": "stream",
     "text": [
      "<class 'str'>\n",
      "<class 'str'>\n",
      "<class 'str'>\n",
      "<class 'int'>\n",
      "<class 'str'>\n",
      "<class 'str'>\n",
      "<class 'bool'>\n",
      "<class 'int'>\n"
     ]
    }
   ],
   "source": [
    "print(type(driver_name))\n",
    "print(type(pick_up_point))\n",
    "print(type(drop_point))\n",
    "print(type(time))\n",
    "print(type(vechile_time))\n",
    "print(type(distance))\n",
    "print(type(status))\n",
    "print(type(fare))\n",
    "\n"
   ]
  },
  {
   "cell_type": "code",
   "execution_count": 27,
   "id": "bbc85931-f71a-4dc3-a24f-c4dc1030c4e3",
   "metadata": {},
   "outputs": [
    {
     "name": "stdout",
     "output_type": "stream",
     "text": [
      "46\n"
     ]
    }
   ],
   "source": [
    "a=\"4\"\n",
    "b=\"6\"\n",
    "print(a+b)"
   ]
  },
  {
   "cell_type": "code",
   "execution_count": 29,
   "id": "bb447f31-77de-4d01-a127-02e2ab5d69ba",
   "metadata": {},
   "outputs": [
    {
     "name": "stdout",
     "output_type": "stream",
     "text": [
      "10\n"
     ]
    }
   ],
   "source": [
    "a=4\n",
    "b=6\n",
    "print(a+b)"
   ]
  },
  {
   "cell_type": "code",
   "execution_count": 1,
   "id": "65b09f17-b892-4034-82dd-51831278e3f5",
   "metadata": {},
   "outputs": [
    {
     "name": "stdout",
     "output_type": "stream",
     "text": [
      "kums\n"
     ]
    }
   ],
   "source": [
    "Name = \"kums\"\n",
    "print(Name)"
   ]
  },
  {
   "cell_type": "code",
   "execution_count": 2,
   "id": "7954e609-2d3d-4df6-a53e-a3bb521c4b13",
   "metadata": {},
   "outputs": [
    {
     "name": "stdout",
     "output_type": "stream",
     "text": [
      "kums\n"
     ]
    }
   ],
   "source": [
    "name = 'kums'\n",
    "print(name)"
   ]
  },
  {
   "cell_type": "code",
   "execution_count": 4,
   "id": "5c7bf11c-aba7-4b5a-a3ce-7a69ca50aee4",
   "metadata": {},
   "outputs": [
    {
     "name": "stdout",
     "output_type": "stream",
     "text": [
      "welcome to the course jayapriya\n"
     ]
    }
   ],
   "source": [
    "Name = \"jayapriya\"\n",
    "print(\"welcome to the course\",Name)"
   ]
  },
  {
   "cell_type": "code",
   "execution_count": 5,
   "id": "2dc9f345-ef43-4048-b0b6-2c554f968ae0",
   "metadata": {},
   "outputs": [
    {
     "name": "stdout",
     "output_type": "stream",
     "text": [
      "my age is 18\n"
     ]
    }
   ],
   "source": [
    "age = 18\n",
    "print(\"my age is\",age)"
   ]
  },
  {
   "cell_type": "code",
   "execution_count": 7,
   "id": "e8a9591e-68c5-4040-bd53-b0dbd6f2506c",
   "metadata": {},
   "outputs": [
    {
     "name": "stdout",
     "output_type": "stream",
     "text": [
      "Name of the student is harshath Age of the student is 18 Student college name is SRM\n"
     ]
    }
   ],
   "source": [
    "name=\"harshath\"\n",
    "age=18\n",
    "college=\"SRM\"\n",
    "print(\"Name of the student is\",name,\"Age of the student is\",age,\"Student college name is\",college)"
   ]
  },
  {
   "cell_type": "code",
   "execution_count": 14,
   "id": "598663d9-9ee8-4d73-a09a-177a931806fa",
   "metadata": {},
   "outputs": [
    {
     "name": "stdout",
     "output_type": "stream",
     "text": [
      "Name of the student is harshath \n",
      "Age of the student is 18 \n",
      "Student college name is SRM\n"
     ]
    }
   ],
   "source": [
    "name=\"harshath\"\n",
    "age=18\n",
    "college=\"SRM\"\n",
    "print(\"Name of the student is\",name,\"\\nAge of the student is\",age,\"\\nStudent college name is\",college)"
   ]
  },
  {
   "cell_type": "markdown",
   "id": "b42ac24c-f4fe-4778-9b39-1c72f1bb0b2f",
   "metadata": {},
   "source": [
    "# f-string -->formatted strin"
   ]
  },
  {
   "cell_type": "code",
   "execution_count": 18,
   "id": "34ee3bd2-8edb-497b-81d1-2cfb33340eff",
   "metadata": {},
   "outputs": [
    {
     "name": "stdout",
     "output_type": "stream",
     "text": [
      "Name of the student is harshath Age of the student is 18 Student college name is SRM\n"
     ]
    }
   ],
   "source": [
    "name=\"harshath\"\n",
    "age=18\n",
    "college=\"SRM\"\n",
    "print(f\"Name of the student is {name} Age of the student is {age} Student college name is {college}\")"
   ]
  },
  {
   "cell_type": "code",
   "execution_count": 20,
   "id": "fa164b4b-0a34-4932-80e0-83a5ac2cd631",
   "metadata": {},
   "outputs": [
    {
     "name": "stdout",
     "output_type": "stream",
     "text": [
      "Name of the student is harshath\n",
      "Age of the student is 18 \n",
      "Student college name is SRM\n"
     ]
    }
   ],
   "source": [
    "name=\"harshath\"\n",
    "age=18\n",
    "college=\"SRM\"\n",
    "print(f\"Name of the student is {name}\\nAge of the student is {age} \\nStudent college name is {college}\")"
   ]
  },
  {
   "cell_type": "markdown",
   "id": "9ae25908-157e-4850-ab65-a4016c40375b",
   "metadata": {},
   "source": [
    "# Inputs"
   ]
  },
  {
   "cell_type": "code",
   "execution_count": 21,
   "id": "4eb3882c-8f90-4812-bbce-dc7c77660103",
   "metadata": {},
   "outputs": [
    {
     "name": "stdout",
     "output_type": "stream",
     "text": [
      "priya\n"
     ]
    }
   ],
   "source": [
    "name=\"priya\"\n",
    "print(name)"
   ]
  },
  {
   "cell_type": "code",
   "execution_count": 22,
   "id": "250cde8d-0b6a-49da-b9c8-f18d3f325c5b",
   "metadata": {},
   "outputs": [
    {
     "name": "stdin",
     "output_type": "stream",
     "text": [
      " jayapriya\n"
     ]
    },
    {
     "name": "stdout",
     "output_type": "stream",
     "text": [
      "jayapriya\n"
     ]
    }
   ],
   "source": [
    "name=input()\n",
    "print(name)"
   ]
  },
  {
   "cell_type": "code",
   "execution_count": 10,
   "id": "868b1912-7719-4e00-9336-d915124a374a",
   "metadata": {},
   "outputs": [
    {
     "name": "stdin",
     "output_type": "stream",
     "text": [
      "Enter your name jp\n"
     ]
    },
    {
     "name": "stdout",
     "output_type": "stream",
     "text": [
      "jp\n"
     ]
    }
   ],
   "source": [
    "name = input(\"Enter your name\")\n",
    "print(name)"
   ]
  },
  {
   "cell_type": "code",
   "execution_count": 11,
   "id": "597d623a-8db1-4e64-9310-2b784775b06f",
   "metadata": {},
   "outputs": [
    {
     "name": "stdin",
     "output_type": "stream",
     "text": [
      "Enter your name jp\n"
     ]
    },
    {
     "name": "stdout",
     "output_type": "stream",
     "text": [
      "jp\n",
      "<class 'str'>\n"
     ]
    }
   ],
   "source": [
    "name = input(\"Enter your name\")\n",
    "print(name)\n",
    "print(type(name))"
   ]
  },
  {
   "cell_type": "code",
   "execution_count": 12,
   "id": "9ba0eb02-d8af-4f74-ac99-a52cc8be8610",
   "metadata": {},
   "outputs": [
    {
     "name": "stdin",
     "output_type": "stream",
     "text": [
      "enter any number 7\n"
     ]
    },
    {
     "name": "stdout",
     "output_type": "stream",
     "text": [
      "7\n",
      "<class 'str'>\n"
     ]
    }
   ],
   "source": [
    "number = input(\"enter any number\")\n",
    "print(number)\n",
    "print(type(number))"
   ]
  },
  {
   "cell_type": "code",
   "execution_count": 15,
   "id": "c424cbeb-509d-4d93-be6e-24cae3e54cbd",
   "metadata": {},
   "outputs": [
    {
     "name": "stdin",
     "output_type": "stream",
     "text": [
      "enter your age 28\n"
     ]
    },
    {
     "name": "stdout",
     "output_type": "stream",
     "text": [
      "28\n",
      "<class 'int'>\n"
     ]
    }
   ],
   "source": [
    "Age = int(input(\"enter your age\"))\n",
    "print(Age)\n",
    "print(type(Age))"
   ]
  },
  {
   "cell_type": "code",
   "execution_count": 16,
   "id": "27085469-b8bc-44c1-aa9a-0d99fcaa17a0",
   "metadata": {},
   "outputs": [
    {
     "name": "stdin",
     "output_type": "stream",
     "text": [
      "enter your salary 10000.50\n"
     ]
    },
    {
     "name": "stdout",
     "output_type": "stream",
     "text": [
      "10000.5\n",
      "<class 'float'>\n"
     ]
    }
   ],
   "source": [
    "salary = float(input(\"enter your salary\"))\n",
    "print(salary)\n",
    "print(type(salary))"
   ]
  },
  {
   "cell_type": "code",
   "execution_count": 17,
   "id": "802ea0b2-11fe-4157-a35e-640fc3f84773",
   "metadata": {},
   "outputs": [
    {
     "name": "stdin",
     "output_type": "stream",
     "text": [
      "enter the status true\n"
     ]
    },
    {
     "name": "stdout",
     "output_type": "stream",
     "text": [
      "True\n",
      "<class 'bool'>\n"
     ]
    }
   ],
   "source": [
    "status = bool(input(\"enter the status\"))\n",
    "print(status)\n",
    "print(type(status))"
   ]
  },
  {
   "cell_type": "markdown",
   "id": "9a1a8534-5730-4fc2-9b4b-234bd59fd59f",
   "metadata": {},
   "source": [
    "# Operators"
   ]
  },
  {
   "cell_type": "markdown",
   "id": "7a7abaf7-530b-46a9-b6e2-4f657dbd2358",
   "metadata": {},
   "source": [
    "### Arithematic operator"
   ]
  },
  {
   "cell_type": "code",
   "execution_count": 19,
   "id": "1f9ab5d7-9c53-4602-9196-29b6e4015b5d",
   "metadata": {},
   "outputs": [
    {
     "name": "stdout",
     "output_type": "stream",
     "text": [
      "12\n",
      "8\n",
      "20\n",
      "5.0\n",
      "0\n",
      "5\n",
      "100\n"
     ]
    }
   ],
   "source": [
    "a=10\n",
    "b=2\n",
    "print(a+b)\n",
    "print(a-b)\n",
    "print(a*b)\n",
    "print(a/b)\n",
    "print(a%b)\n",
    "print(a//b)\n",
    "print(a**b)"
   ]
  },
  {
   "cell_type": "markdown",
   "id": "28c4de90-4e24-42d5-84be-e66423518af4",
   "metadata": {},
   "source": [
    "### Relationship operator"
   ]
  },
  {
   "cell_type": "code",
   "execution_count": 20,
   "id": "021859f4-bf1c-461a-93e4-6d2319f5866a",
   "metadata": {},
   "outputs": [
    {
     "name": "stdout",
     "output_type": "stream",
     "text": [
      "False\n",
      "True\n",
      "False\n",
      "True\n",
      "False\n",
      "True\n"
     ]
    }
   ],
   "source": [
    "a=10\n",
    "b=20\n",
    "print(a>b)\n",
    "print(a<b)\n",
    "print(a>=b)\n",
    "print(a<=b)\n",
    "print(a==b)\n",
    "print(a!=b)"
   ]
  },
  {
   "cell_type": "markdown",
   "id": "d6a910ed-3a0d-42f3-a77b-7a2bdcb7b58c",
   "metadata": {},
   "source": [
    "# Logical operator\n",
    "### and or not"
   ]
  },
  {
   "cell_type": "markdown",
   "id": "2bdffaab-e1a4-4a11-b76f-746f6dca9ca9",
   "metadata": {},
   "source": [
    "# Statements\n",
    "### Conditional statements"
   ]
  },
  {
   "cell_type": "code",
   "execution_count": 21,
   "id": "b419ba8d-5252-4669-b2ef-7c53ff102592",
   "metadata": {},
   "outputs": [
    {
     "name": "stdout",
     "output_type": "stream",
     "text": [
      "you are eligible to vote\n"
     ]
    }
   ],
   "source": [
    "age = 20\n",
    "if(age>18):\n",
    "    print(\"you are eligible to vote\")\n",
    "else:\n",
    "    print(\"you are not elligible\")"
   ]
  },
  {
   "cell_type": "code",
   "execution_count": 22,
   "id": "cd6aff74-a592-4fea-afe1-e4120a1486cb",
   "metadata": {},
   "outputs": [
    {
     "name": "stdout",
     "output_type": "stream",
     "text": [
      "you are eligible to vote\n"
     ]
    }
   ],
   "source": [
    "age = 20\n",
    "if(age>=18):\n",
    "    print(\"you are eligible to vote\")\n",
    "else:\n",
    "    print(\"you are not elligible\")"
   ]
  },
  {
   "cell_type": "code",
   "execution_count": 26,
   "id": "311de594-322f-4615-ad59-4aa4f1e9239a",
   "metadata": {},
   "outputs": [
    {
     "name": "stdin",
     "output_type": "stream",
     "text": [
      "enter your age 18\n"
     ]
    },
    {
     "name": "stdout",
     "output_type": "stream",
     "text": [
      "you are eligible to vote\n"
     ]
    }
   ],
   "source": [
    "age =int(input(\"enter your age\"))\n",
    "if(age>=18):\n",
    " print(\"you are eligible to vote\")\n",
    "else:\n",
    "    print(\"you are not elligible\")\n"
   ]
  },
  {
   "cell_type": "code",
   "execution_count": null,
   "id": "9c6b1803-c292-48b7-9578-9f8aa7e6e62a",
   "metadata": {},
   "outputs": [],
   "source": []
  }
 ],
 "metadata": {
  "kernelspec": {
   "display_name": "Python 3 (ipykernel)",
   "language": "python",
   "name": "python3"
  },
  "language_info": {
   "codemirror_mode": {
    "name": "ipython",
    "version": 3
   },
   "file_extension": ".py",
   "mimetype": "text/x-python",
   "name": "python",
   "nbconvert_exporter": "python",
   "pygments_lexer": "ipython3",
   "version": "3.13.5"
  }
 },
 "nbformat": 4,
 "nbformat_minor": 5
}
