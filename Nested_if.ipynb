{
 "cells": [
  {
   "cell_type": "markdown",
   "id": "f80c190d-af38-43d5-967f-bde808e9f307",
   "metadata": {},
   "source": [
    "# Nested if"
   ]
  },
  {
   "cell_type": "markdown",
   "id": "d4fa50ac-cae7-44a7-a7a2-553d4c9df0b4",
   "metadata": {},
   "source": [
    "## Check whether the year is leap year or non leap year"
   ]
  },
  {
   "cell_type": "code",
   "execution_count": 8,
   "id": "ad03a15b-5e75-41e7-b362-2bd0420ab4d5",
   "metadata": {},
   "outputs": [
    {
     "name": "stdin",
     "output_type": "stream",
     "text": [
      "enter any year 2024\n"
     ]
    },
    {
     "name": "stdout",
     "output_type": "stream",
     "text": [
      "2024 is divisible by 4 but not by 100 so it is a leap year\n"
     ]
    }
   ],
   "source": [
    "year=int(input(\"enter any year\"))\n",
    "if(year%4==0):\n",
    "  if(year%100==0):\n",
    "    if(year%400==0):\n",
    "        print(f\"{year} is divisible by 4,100,400 so its a leap year\")\n",
    "    else:\n",
    "        print(f\"{year} is divisible by 4,100 but not 400 so it is a non leap year\")\n",
    "  else:\n",
    "      print(f\"{year} is divisible by 4 but not by 100 so it is a leap year\")\n",
    "else:\n",
    "     print(f\"{year} is not divisible by 4 so it is a non leap year\")\n",
    "    "
   ]
  },
  {
   "cell_type": "markdown",
   "id": "7bf93e2e-7d46-4012-8843-c4d34534067c",
   "metadata": {},
   "source": [
    "## ATM basic flow program"
   ]
  },
  {
   "cell_type": "code",
   "execution_count": 53,
   "id": "5945733d-1d19-4fd1-9ce7-1e743706cc60",
   "metadata": {},
   "outputs": [
    {
     "name": "stdout",
     "output_type": "stream",
     "text": [
      "welcome to the SBI ATM\n"
     ]
    },
    {
     "name": "stdin",
     "output_type": "stream",
     "text": [
      "select the following statements for withdraw(press W) for balance enquiry(press B) w\n"
     ]
    },
    {
     "name": "stdout",
     "output_type": "stream",
     "text": [
      "your selected withdraw option\n"
     ]
    },
    {
     "name": "stdin",
     "output_type": "stream",
     "text": [
      "please select your account type for savings(press S) for current(press C) c\n"
     ]
    },
    {
     "name": "stdout",
     "output_type": "stream",
     "text": [
      "your selected current account\n"
     ]
    }
   ],
   "source": [
    "print(\"welcome to the SBI ATM\")\n",
    "check=input(\"select the following statements for withdraw(press W) for balance enquiry(press B)\").upper()\n",
    "if check=='W':\n",
    "    print(\"your selected withdraw option\")\n",
    "    check_1=input(\"please select your account type for savings(press S) for current(press C)\").upper()\n",
    "    if check_1=='S':\n",
    "        print(\"your selected savings account\")\n",
    "        Amount=9000\n",
    "        amount=int(input(\"enter your withdraw amount\"))\n",
    "        Pin=1126\n",
    "        pin=int(input(\"enter your 4digit pin number\"))\n",
    "        if pin==Pin:\n",
    "            print(\"your pin number is valid\")\n",
    "            if amount>Amount:\n",
    "                print(f\"Insufficient balance you have only {Amount}\")\n",
    "            elif amount<Amount:\n",
    "                print(f\"you have succesfully withdrawn the balance amount is {Amount-amount}\")\n",
    "        else:\n",
    "            print(\"your pin is invalid\")\n",
    "    elif check_1=='C':\n",
    "        print(\"your selected current account\")\n",
    "elif check=='B':\n",
    "    print(\"your selected balance enquiry option\")     "
   ]
  },
  {
   "cell_type": "code",
   "execution_count": 61,
   "id": "17a18dad-6818-4fee-8b6d-24d8e3f3af31",
   "metadata": {},
   "outputs": [
    {
     "name": "stdout",
     "output_type": "stream",
     "text": [
      "welcome to the HDFC ATM\n"
     ]
    },
    {
     "name": "stdin",
     "output_type": "stream",
     "text": [
      "select the following statements for withdraw(press W) for balance enquiry(press B) w\n"
     ]
    },
    {
     "name": "stdout",
     "output_type": "stream",
     "text": [
      "your selected withdraw option\n"
     ]
    },
    {
     "name": "stdin",
     "output_type": "stream",
     "text": [
      "please select your account type for savings(press S) for current(press C) c\n"
     ]
    },
    {
     "name": "stdout",
     "output_type": "stream",
     "text": [
      "your selected current account\n"
     ]
    },
    {
     "name": "stdin",
     "output_type": "stream",
     "text": [
      "for availing loan please select yes(press Y) or else No(press N) n\n"
     ]
    },
    {
     "name": "stdout",
     "output_type": "stream",
     "text": [
      "Thank you\n"
     ]
    }
   ],
   "source": [
    "print(\"welcome to the HDFC ATM\")\n",
    "check=input(\"select the following statements for withdraw(press W) for balance enquiry(press B)\").upper()\n",
    "if check=='W':\n",
    "    print(\"your selected withdraw option\")\n",
    "    check_1=input(\"please select your account type for savings(press S) for current(press C)\").upper()\n",
    "    if check_1=='C':\n",
    "         print(\"your selected current account\")\n",
    "         check_2=input(\"for availing loan please select yes(press Y) or else No(press N)\").upper()\n",
    "         if check_2=='Y':\n",
    "             print(\"your selected yes option\")\n",
    "             Age=int(input(\"enter your age\"))\n",
    "             if Age>=25:\n",
    "                 print(\"your eligible\")\n",
    "                 Salary=int(input(\"enter your salary\"))\n",
    "                 if Salary>=60000:\n",
    "                     print(\"your eligible\")\n",
    "                 else:\n",
    "                     print(\"your not eligible\")\n",
    "             else:\n",
    "                 print(\"your not eligible\")\n",
    "         elif check_2=='N':\n",
    "             print(\"Thank you\")\n",
    "                 \n",
    "                 "
   ]
  },
  {
   "cell_type": "code",
   "execution_count": null,
   "id": "ca57466c-2c58-45e5-9cde-64f4a13a66bb",
   "metadata": {},
   "outputs": [],
   "source": []
  }
 ],
 "metadata": {
  "kernelspec": {
   "display_name": "Python 3 (ipykernel)",
   "language": "python",
   "name": "python3"
  },
  "language_info": {
   "codemirror_mode": {
    "name": "ipython",
    "version": 3
   },
   "file_extension": ".py",
   "mimetype": "text/x-python",
   "name": "python",
   "nbconvert_exporter": "python",
   "pygments_lexer": "ipython3",
   "version": "3.13.5"
  }
 },
 "nbformat": 4,
 "nbformat_minor": 5
}
