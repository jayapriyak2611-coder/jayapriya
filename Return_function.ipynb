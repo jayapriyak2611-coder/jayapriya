{
 "cells": [
  {
   "cell_type": "markdown",
   "id": "201e6d89-aa29-4975-a4a4-ac941db3b236",
   "metadata": {},
   "source": [
    "# Return "
   ]
  },
  {
   "cell_type": "code",
   "execution_count": 14,
   "id": "bb6d34e4-8379-48e9-a323-3f18e28fc554",
   "metadata": {},
   "outputs": [
    {
     "name": "stdout",
     "output_type": "stream",
     "text": [
      "hello\n",
      "6\n"
     ]
    }
   ],
   "source": [
    "def my_func():\n",
    "   print(\"hello\")\n",
    "   return(3+3)\n",
    "a=(my_func())\n",
    "print(a)"
   ]
  },
  {
   "cell_type": "code",
   "execution_count": 21,
   "id": "39f0d293-dbef-416d-9623-930f252fa7bb",
   "metadata": {},
   "outputs": [
    {
     "name": "stdout",
     "output_type": "stream",
     "text": [
      "7\n",
      "20 and 100\n"
     ]
    }
   ],
   "source": [
    "def add(fnum,lnum):\n",
    "    return fnum+lnum\n",
    "x=add(3,4)\n",
    "print(x)\n",
    "print(f\"{add(5,15)} and {add(30,70)}\")"
   ]
  },
  {
   "cell_type": "code",
   "execution_count": 20,
   "id": "c02d493a-efa3-4b78-9698-e6e726733721",
   "metadata": {},
   "outputs": [
    {
     "name": "stdout",
     "output_type": "stream",
     "text": [
      "7\n",
      "20 and 100\n"
     ]
    }
   ],
   "source": [
    "def add(fnum,lnum):\n",
    "    return fnum+lnum\n",
    "#x=add(3,4)\n",
    "print(f\"{add(3,4)}\")\n",
    "print(f\"{add(5,15)} and {add(30,70)}\")"
   ]
  },
  {
   "cell_type": "code",
   "execution_count": 22,
   "id": "98df62bf-9079-4fda-aa4f-51c78be03b31",
   "metadata": {},
   "outputs": [
    {
     "name": "stdout",
     "output_type": "stream",
     "text": [
      "True\n"
     ]
    }
   ],
   "source": [
    "def call():\n",
    "    return True\n",
    "print(call())"
   ]
  },
  {
   "cell_type": "code",
   "execution_count": 23,
   "id": "2c023a09-4c3b-42e8-bebb-3246b7a5b360",
   "metadata": {},
   "outputs": [
    {
     "name": "stdout",
     "output_type": "stream",
     "text": [
      "hello world\n"
     ]
    }
   ],
   "source": [
    "def func(x):\n",
    "    return f\"hello {x}\"\n",
    "a=func(\"world\")\n",
    "print(a)"
   ]
  },
  {
   "cell_type": "code",
   "execution_count": 24,
   "id": "f088d5c6-836c-405c-a940-efc2b617d5c7",
   "metadata": {},
   "outputs": [
    {
     "name": "stdout",
     "output_type": "stream",
     "text": [
      "hello priya\n"
     ]
    }
   ],
   "source": [
    "def func(x):\n",
    "    return f\"hello {x}\"\n",
    "a=func(\"world\")\n",
    "print(func(\"priya\"))"
   ]
  },
  {
   "cell_type": "code",
   "execution_count": 25,
   "id": "cdb4555c-d939-4ff1-b485-b95b93217b07",
   "metadata": {},
   "outputs": [
    {
     "name": "stdout",
     "output_type": "stream",
     "text": [
      "Hello world\n"
     ]
    }
   ],
   "source": [
    "def func(x):\n",
    "    x=\"Hello world\"\n",
    "    return x\n",
    "print(func(\"nexila\"))"
   ]
  },
  {
   "cell_type": "code",
   "execution_count": 27,
   "id": "9e2bede1-7500-4bc8-a847-6ff3a4984305",
   "metadata": {},
   "outputs": [
    {
     "name": "stdout",
     "output_type": "stream",
     "text": [
      "('nexila', 'Hello world')\n"
     ]
    }
   ],
   "source": [
    "def func(y):\n",
    "    x=\"Hello world\"\n",
    "    return y,x\n",
    "print(func(\"nexila\"))"
   ]
  },
  {
   "cell_type": "code",
   "execution_count": null,
   "id": "7f8d2fe8-faee-41d1-b722-84be9b58399d",
   "metadata": {},
   "outputs": [],
   "source": []
  }
 ],
 "metadata": {
  "kernelspec": {
   "display_name": "Python 3 (ipykernel)",
   "language": "python",
   "name": "python3"
  },
  "language_info": {
   "codemirror_mode": {
    "name": "ipython",
    "version": 3
   },
   "file_extension": ".py",
   "mimetype": "text/x-python",
   "name": "python",
   "nbconvert_exporter": "python",
   "pygments_lexer": "ipython3",
   "version": "3.13.5"
  }
 },
 "nbformat": 4,
 "nbformat_minor": 5
}
