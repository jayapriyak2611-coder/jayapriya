{
 "cells": [
  {
   "cell_type": "markdown",
   "id": "23d08f76-0010-49f9-9afb-0c4fcd02f26b",
   "metadata": {},
   "source": [
    "# While loop"
   ]
  },
  {
   "cell_type": "code",
   "execution_count": 1,
   "id": "27ba387c-8621-4171-acfc-6a6f84d7b0cb",
   "metadata": {},
   "outputs": [
    {
     "name": "stdout",
     "output_type": "stream",
     "text": [
      "2\n",
      "3\n",
      "4\n",
      "5\n",
      "6\n"
     ]
    }
   ],
   "source": [
    "n=1\n",
    "while(n<=5):\n",
    "    n=n+1\n",
    "    print(n)"
   ]
  },
  {
   "cell_type": "code",
   "execution_count": 6,
   "id": "dc2a41bc-2770-46a0-90f1-e4f6f7c6321f",
   "metadata": {},
   "outputs": [
    {
     "name": "stdout",
     "output_type": "stream",
     "text": [
      "1\n",
      "2\n",
      "3\n",
      "4\n",
      "5\n",
      "6\n",
      "7\n"
     ]
    }
   ],
   "source": [
    "for i  in range(1,11):\n",
    "    if i==8:\n",
    "        break\n",
    "    else:\n",
    "        print(i)"
   ]
  },
  {
   "cell_type": "code",
   "execution_count": 7,
   "id": "5e4d2175-4024-469e-90fb-1243d5db0a93",
   "metadata": {},
   "outputs": [
    {
     "name": "stdout",
     "output_type": "stream",
     "text": [
      "1\n",
      "2\n",
      "3\n",
      "4\n",
      "5\n",
      "6\n",
      "7\n",
      "9\n",
      "10\n"
     ]
    }
   ],
   "source": [
    "for i  in range(1,11):\n",
    "    if i==8:\n",
    "        \n",
    "        continue\n",
    "    else:\n",
    "        print(i)"
   ]
  },
  {
   "cell_type": "code",
   "execution_count": 4,
   "id": "37c77278-1b0e-464a-a9f9-d3b7efd5f95f",
   "metadata": {},
   "outputs": [
    {
     "name": "stdout",
     "output_type": "stream",
     "text": [
      "1\n"
     ]
    }
   ],
   "source": [
    "x=1\n",
    "if(x<=5):\n",
    "    print(x)\n",
    "    x=x+1\n",
    "else:\n",
    "    print(\"loop finished\")"
   ]
  },
  {
   "cell_type": "code",
   "execution_count": 5,
   "id": "89aea120-b2e4-4835-9038-4285f7a49bac",
   "metadata": {},
   "outputs": [
    {
     "name": "stdout",
     "output_type": "stream",
     "text": [
      "1\n",
      "2\n",
      "3\n",
      "4\n",
      "5\n",
      "loop finished\n"
     ]
    }
   ],
   "source": [
    "x=1\n",
    "while(x<=5):\n",
    "    print(x)\n",
    "    x=x+1\n",
    "else:\n",
    "    print(\"loop finished\")"
   ]
  },
  {
   "cell_type": "raw",
   "id": "cbca74ab-6fed-40e4-b55b-643ff78703ff",
   "metadata": {},
   "source": []
  },
  {
   "cell_type": "code",
   "execution_count": null,
   "id": "b3ce624a-1bb3-4d0a-9e87-fa8eb97fcd51",
   "metadata": {},
   "outputs": [
    {
     "name": "stdout",
     "output_type": "stream",
     "text": [
      "1\n"
     ]
    }
   ],
   "source": [
    "for i in (1,10):\n",
    "    while True:\n",
    "        if i<=7:\n",
    "            print(i)\n",
    "            i=i+1\n",
    "            break"
   ]
  },
  {
   "cell_type": "code",
   "execution_count": null,
   "id": "e8c06c18-d904-4468-86b6-fe3e785957a8",
   "metadata": {},
   "outputs": [],
   "source": [
    "print(\"hello\")"
   ]
  },
  {
   "cell_type": "code",
   "execution_count": null,
   "id": "b9d319fe-f99f-4e91-96f3-85b3db975bd2",
   "metadata": {},
   "outputs": [
    {
     "name": "stdin",
     "output_type": "stream",
     "text": [
      "enter your name jyapriya\n"
     ]
    },
    {
     "name": "stdout",
     "output_type": "stream",
     "text": [
      "j\n",
      "y\n",
      "a\n",
      "p\n",
      "r\n",
      "the letter is i so break the loop\n"
     ]
    }
   ],
   "source": [
    "while True:\n",
    "    n=input(\"enter your name\")\n",
    "    for j in n:\n",
    "        if(j==\"i\"):\n",
    "            print(\"the letter is i so break the loop\")\n",
    "            break\n",
    "        else:\n",
    "            print(j)\n",
    "            "
   ]
  },
  {
   "cell_type": "code",
   "execution_count": null,
   "id": "ad3c2151-cf7e-40e3-9c18-686e87f1d501",
   "metadata": {},
   "outputs": [],
   "source": []
  }
 ],
 "metadata": {
  "kernelspec": {
   "display_name": "Python 3 (ipykernel)",
   "language": "python",
   "name": "python3"
  },
  "language_info": {
   "codemirror_mode": {
    "name": "ipython",
    "version": 3
   },
   "file_extension": ".py",
   "mimetype": "text/x-python",
   "name": "python",
   "nbconvert_exporter": "python",
   "pygments_lexer": "ipython3",
   "version": "3.13.5"
  }
 },
 "nbformat": 4,
 "nbformat_minor": 5
}
