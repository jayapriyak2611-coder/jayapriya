{
 "cells": [
  {
   "cell_type": "markdown",
   "id": "3b06d61f-b0a4-420b-b97c-0e44e6a57883",
   "metadata": {},
   "source": [
    "# Loops"
   ]
  },
  {
   "cell_type": "markdown",
   "id": "adcb7d82-6549-4662-8859-e0c7523d6d55",
   "metadata": {},
   "source": [
    "## for loop"
   ]
  },
  {
   "cell_type": "code",
   "execution_count": 1,
   "id": "f002d116-5a0a-4dad-ad9a-b631c5eac1c1",
   "metadata": {},
   "outputs": [
    {
     "name": "stdout",
     "output_type": "stream",
     "text": [
      "1\n",
      "2\n",
      "3\n",
      "4\n",
      "5\n"
     ]
    }
   ],
   "source": [
    "for i in range(1,6):\n",
    "    print(i)"
   ]
  },
  {
   "cell_type": "code",
   "execution_count": 4,
   "id": "928ed96f-b47d-4073-a30e-e7968458542c",
   "metadata": {},
   "outputs": [
    {
     "name": "stdout",
     "output_type": "stream",
     "text": [
      "hello world\n",
      "hello world\n",
      "hello world\n",
      "hello world\n",
      "hello world\n",
      "hello world\n",
      "hello world\n",
      "hello world\n",
      "hello world\n"
     ]
    }
   ],
   "source": [
    "for i in range(1,10):\n",
    "    print(\"hello world\")"
   ]
  },
  {
   "cell_type": "code",
   "execution_count": 5,
   "id": "a8f616e9-c4da-472b-b04c-9cb581a24095",
   "metadata": {},
   "outputs": [
    {
     "name": "stdout",
     "output_type": "stream",
     "text": [
      "1--hello world\n",
      "2--hello world\n",
      "3--hello world\n",
      "4--hello world\n"
     ]
    }
   ],
   "source": [
    "for i in range(1,5):\n",
    "    print(f\"{i}--hello world\")"
   ]
  },
  {
   "cell_type": "code",
   "execution_count": 7,
   "id": "ebdda578-4815-4c24-99b5-32bd312b9220",
   "metadata": {},
   "outputs": [
    {
     "name": "stdout",
     "output_type": "stream",
     "text": [
      "0\n",
      "1\n",
      "2\n",
      "3\n",
      "4\n"
     ]
    }
   ],
   "source": [
    "for a in range(5):\n",
    "    print(a)"
   ]
  },
  {
   "cell_type": "code",
   "execution_count": 8,
   "id": "df914821-76a0-4592-ac18-c1bf1dab2853",
   "metadata": {},
   "outputs": [
    {
     "name": "stdout",
     "output_type": "stream",
     "text": [
      "1\n",
      "3\n",
      "5\n",
      "7\n",
      "9\n"
     ]
    }
   ],
   "source": [
    "for j in range(1,11,2):\n",
    "    print(j)"
   ]
  },
  {
   "cell_type": "code",
   "execution_count": 9,
   "id": "0e9e85b7-13f2-4225-9993-4daa6268b199",
   "metadata": {},
   "outputs": [
    {
     "name": "stdout",
     "output_type": "stream",
     "text": [
      "5\n",
      "7\n",
      "9\n"
     ]
    }
   ],
   "source": [
    "for car in range(5,10,2):\n",
    "    print(car)"
   ]
  },
  {
   "cell_type": "markdown",
   "id": "c37abb0e-6f66-4355-8fba-0bc0749e9344",
   "metadata": {},
   "source": [
    "## Find odd/even number"
   ]
  },
  {
   "cell_type": "code",
   "execution_count": 2,
   "id": "d263d8a4-708a-4ab5-8648-c1e3f4e09c68",
   "metadata": {},
   "outputs": [
    {
     "name": "stdout",
     "output_type": "stream",
     "text": [
      "1 is an odd number\n",
      "2 is an even number\n",
      "3 is an odd number\n",
      "4 is an even number\n",
      "5 is an odd number\n",
      "6 is an even number\n",
      "7 is an odd number\n",
      "8 is an even number\n",
      "9 is an odd number\n",
      "10 is an even number\n",
      "11 is an odd number\n",
      "12 is an even number\n",
      "13 is an odd number\n",
      "14 is an even number\n",
      "15 is an odd number\n",
      "16 is an even number\n",
      "17 is an odd number\n",
      "18 is an even number\n",
      "19 is an odd number\n",
      "20 is an even number\n"
     ]
    }
   ],
   "source": [
    "for i in range(1,21):\n",
    "    if(i%2==0):\n",
    "        print(f\"{i} is an even number\")\n",
    "    else:\n",
    "        print(f\"{i} is an odd number\")"
   ]
  },
  {
   "cell_type": "code",
   "execution_count": 16,
   "id": "8c319b99-8f1a-40ce-8688-54430ab13475",
   "metadata": {},
   "outputs": [
    {
     "name": "stdout",
     "output_type": "stream",
     "text": [
      "2 total even number in the range between 1 to 5\n",
      "3 total odd number in the range between 1 to 5\n",
      "[2, 4]\n",
      "[1, 3, 5]\n"
     ]
    }
   ],
   "source": [
    "even=0\n",
    "odd=0\n",
    "even_1=[]\n",
    "odd_1=[]\n",
    "for i in range(1,6):\n",
    "    if(i%2==0):\n",
    "        even=even+1\n",
    "        even_1.append(i)\n",
    "    else:\n",
    "        odd=odd+1\n",
    "        odd_1.append(i)\n",
    "print(f\"{even} total even number in the range between 1 to 5\")\n",
    "print(f\"{odd} total odd number in the range between 1 to 5\")\n",
    "print(even_1)\n",
    "print(odd_1)"
   ]
  },
  {
   "cell_type": "code",
   "execution_count": 23,
   "id": "5acf0618-f82b-4d1c-b296-039821b34121",
   "metadata": {},
   "outputs": [
    {
     "name": "stdout",
     "output_type": "stream",
     "text": [
      "6 numbers between 1 to 100\n",
      "[15, 30, 45, 60, 75, 90]\n"
     ]
    }
   ],
   "source": [
    "multiples=0\n",
    "multiples_1=[]\n",
    "for i in range(1,101):\n",
    "    if(i%3==0 and i%5==0):\n",
    "        multiples=multiples+1\n",
    "        multiples_1.append(i)\n",
    "    \n",
    "print(f\"{multiples} numbers between 1 to 100\")\n",
    "print(multiples_1)\n"
   ]
  },
  {
   "cell_type": "code",
   "execution_count": null,
   "id": "4648ca2b-c70a-49b8-8766-bf3acbb774a1",
   "metadata": {},
   "outputs": [],
   "source": []
  }
 ],
 "metadata": {
  "kernelspec": {
   "display_name": "Python 3 (ipykernel)",
   "language": "python",
   "name": "python3"
  },
  "language_info": {
   "codemirror_mode": {
    "name": "ipython",
    "version": 3
   },
   "file_extension": ".py",
   "mimetype": "text/x-python",
   "name": "python",
   "nbconvert_exporter": "python",
   "pygments_lexer": "ipython3",
   "version": "3.13.5"
  }
 },
 "nbformat": 4,
 "nbformat_minor": 5
}
