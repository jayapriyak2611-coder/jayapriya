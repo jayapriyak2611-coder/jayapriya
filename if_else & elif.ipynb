{
 "cells": [
  {
   "cell_type": "markdown",
   "id": "220f8733-e6f9-4ef1-af07-70316d85e119",
   "metadata": {},
   "source": [
    "# Statements\n",
    "### Conditional statements"
   ]
  },
  {
   "cell_type": "markdown",
   "id": "5e1a609e-167d-4412-b4ac-234adda594e0",
   "metadata": {},
   "source": [
    "# if else"
   ]
  },
  {
   "cell_type": "markdown",
   "id": "d087a2db-51a7-465f-8c41-744a26ef6707",
   "metadata": {},
   "source": [
    "### Voting age"
   ]
  },
  {
   "cell_type": "code",
   "execution_count": 2,
   "id": "2a82142f-1206-4b0c-b02d-d52fa4f183b1",
   "metadata": {},
   "outputs": [
    {
     "name": "stdout",
     "output_type": "stream",
     "text": [
      "you are eligible to vote\n"
     ]
    }
   ],
   "source": [
    "age = 20\n",
    "if(age>18):\n",
    "    print(\"you are eligible to vote\")\n",
    "else:\n",
    "    print(\"you are not elligible\")"
   ]
  },
  {
   "cell_type": "code",
   "execution_count": 3,
   "id": "713279cb-d201-431d-8cdd-fe5448602aec",
   "metadata": {},
   "outputs": [
    {
     "name": "stdout",
     "output_type": "stream",
     "text": [
      "you are eligible to vote\n"
     ]
    }
   ],
   "source": [
    "age = 20\n",
    "if(age>=18):\n",
    "    print(\"you are eligible to vote\")\n",
    "else:\n",
    "    print(\"you are not elligible\")"
   ]
  },
  {
   "cell_type": "code",
   "execution_count": 4,
   "id": "d5565a9a-be36-43f4-a28a-92976999e5fd",
   "metadata": {},
   "outputs": [
    {
     "name": "stdin",
     "output_type": "stream",
     "text": [
      "enter your age 66\n"
     ]
    },
    {
     "name": "stdout",
     "output_type": "stream",
     "text": [
      "you are eligible to vote\n"
     ]
    }
   ],
   "source": [
    "age =int(input(\"enter your age\"))\n",
    "if(age>=18):\n",
    " print(\"you are eligible to vote\")\n",
    "else:\n",
    "    print(\"you are not elligible\")"
   ]
  },
  {
   "cell_type": "markdown",
   "id": "72d214bc-ca62-4808-9a33-7b289b3a71b2",
   "metadata": {},
   "source": [
    "### Positive/Negative number"
   ]
  },
  {
   "cell_type": "code",
   "execution_count": 6,
   "id": "d3326748-f42e-4d1d-aac9-46c799ff549b",
   "metadata": {},
   "outputs": [
    {
     "name": "stdin",
     "output_type": "stream",
     "text": [
      "enter any number 36\n"
     ]
    },
    {
     "name": "stdout",
     "output_type": "stream",
     "text": [
      "positive number\n"
     ]
    }
   ],
   "source": [
    "num = int(input(\"enter any number\"))\n",
    "if(num>0):\n",
    "    print(\"positive number\")\n",
    "else:\n",
    "    print(\"negative number\")"
   ]
  },
  {
   "cell_type": "code",
   "execution_count": 7,
   "id": "56e77567-fd60-457f-9bf6-9ed27ab918fe",
   "metadata": {},
   "outputs": [
    {
     "name": "stdin",
     "output_type": "stream",
     "text": [
      "enter any number -7\n"
     ]
    },
    {
     "name": "stdout",
     "output_type": "stream",
     "text": [
      "negative number\n"
     ]
    }
   ],
   "source": [
    "num = int(input(\"enter any number\"))\n",
    "if(num>0):\n",
    "    print(\"positive number\")\n",
    "else:\n",
    "    print(\"negative number\")"
   ]
  },
  {
   "cell_type": "code",
   "execution_count": 8,
   "id": "7fcf5b19-81f8-4319-ae8d-245fc4878f09",
   "metadata": {},
   "outputs": [
    {
     "name": "stdin",
     "output_type": "stream",
     "text": [
      "enter any number 76\n"
     ]
    },
    {
     "name": "stdout",
     "output_type": "stream",
     "text": [
      "76 is an even number\n"
     ]
    }
   ],
   "source": [
    "num = int(input(\"enter any number\"))\n",
    "if(num%2==0):\n",
    "    print(f\"{num} is an even number\")\n",
    "else:\n",
    "    print(f\"{num} is an odd number\")"
   ]
  },
  {
   "cell_type": "code",
   "execution_count": 1,
   "id": "cfa34326-2153-4d2a-82d0-839eab8efe4a",
   "metadata": {},
   "outputs": [
    {
     "name": "stdin",
     "output_type": "stream",
     "text": [
      "enter any number 75\n"
     ]
    },
    {
     "name": "stdout",
     "output_type": "stream",
     "text": [
      "75 is an odd number\n"
     ]
    }
   ],
   "source": [
    "num = int(input(\"enter any number\"))\n",
    "if(num%2==0):\n",
    "    print(f\"{num} is an even number\")\n",
    "else:\n",
    "    print(f\"{num} is an odd number\")"
   ]
  },
  {
   "cell_type": "markdown",
   "id": "7099c9ac-cb0a-4012-aa78-17d57bdad98a",
   "metadata": {},
   "source": [
    "## pass/fail mark"
   ]
  },
  {
   "cell_type": "code",
   "execution_count": 10,
   "id": "b78a7c20-fd00-4fed-9639-62c008c61510",
   "metadata": {},
   "outputs": [
    {
     "name": "stdin",
     "output_type": "stream",
     "text": [
      "enter any number 51\n"
     ]
    },
    {
     "name": "stdout",
     "output_type": "stream",
     "text": [
      "pass mark\n"
     ]
    }
   ],
   "source": [
    "mark = int(input(\"enter any number\"))\n",
    "if(mark>50):\n",
    " print(\"pass mark\")\n",
    "else:\n",
    " print(\"fail mark\")"
   ]
  },
  {
   "cell_type": "code",
   "execution_count": 11,
   "id": "681be577-63f0-4bef-9e39-52f292a6bb8c",
   "metadata": {},
   "outputs": [
    {
     "name": "stdin",
     "output_type": "stream",
     "text": [
      "enter any number 50\n"
     ]
    },
    {
     "name": "stdout",
     "output_type": "stream",
     "text": [
      "pass mark\n"
     ]
    }
   ],
   "source": [
    "mark = int(input(\"enter any number\"))\n",
    "if(mark>=50):\n",
    " print(\"pass mark\")\n",
    "else:\n",
    " print(\"fail mark\")"
   ]
  },
  {
   "cell_type": "code",
   "execution_count": 12,
   "id": "714e235c-44c6-4541-95ea-53b4f2ccc4cf",
   "metadata": {},
   "outputs": [
    {
     "name": "stdin",
     "output_type": "stream",
     "text": [
      "enter any number 49\n"
     ]
    },
    {
     "name": "stdout",
     "output_type": "stream",
     "text": [
      "fail mark\n"
     ]
    }
   ],
   "source": [
    "mark = int(input(\"enter any number\"))\n",
    "if(mark>=50):\n",
    " print(\"pass mark\")\n",
    "else:\n",
    " print(\"fail mark\")"
   ]
  },
  {
   "cell_type": "markdown",
   "id": "0709f404-c4b1-43a7-88d0-b1cc8e5a7443",
   "metadata": {},
   "source": [
    "# elif"
   ]
  },
  {
   "cell_type": "markdown",
   "id": "ce67a63f-2099-4e2f-921d-bb758e2b10ef",
   "metadata": {},
   "source": [
    "### Grade calculator"
   ]
  },
  {
   "cell_type": "code",
   "execution_count": 13,
   "id": "73ff7f73-dc95-4423-8583-adab94c420e3",
   "metadata": {},
   "outputs": [
    {
     "name": "stdin",
     "output_type": "stream",
     "text": [
      "enter any mark 75\n"
     ]
    },
    {
     "name": "stdout",
     "output_type": "stream",
     "text": [
      "75 your grade is A\n"
     ]
    }
   ],
   "source": [
    "Mark = int(input(\"enter any mark\"))\n",
    "if(Mark>=91 and Mark<=100):\n",
    "    print(f\"{Mark} your grade is O\")\n",
    "elif(Mark>=81 and Mark<=90):\n",
    "    print(f\"{Mark} your grade is A+\")\n",
    "elif(Mark>=71 and Mark<=80):\n",
    "    print(f\"{Mark} your grade is A\")\n",
    "elif(Mark>=61 and Mark<=70):\n",
    "    print(f\"{Mark} your grade is B+\")\n",
    "elif(Mark>=51 and Mark<=60):\n",
    "    print(f\"{Mark} your grade is B\")\n",
    "elif(Mark<50):\n",
    "    print(f\"{Mark} your fail\")\n",
    "else:\n",
    "    print(\"Invalid mark\")"
   ]
  },
  {
   "cell_type": "code",
   "execution_count": 14,
   "id": "a6ce2c80-3a11-44f3-b2f6-c5a6e341585d",
   "metadata": {},
   "outputs": [
    {
     "name": "stdin",
     "output_type": "stream",
     "text": [
      "enter any mark 666\n"
     ]
    },
    {
     "name": "stdout",
     "output_type": "stream",
     "text": [
      "Invalid mark\n"
     ]
    }
   ],
   "source": [
    "Mark = int(input(\"enter any mark\"))\n",
    "if(Mark>=91 and Mark<=100):\n",
    "    print(f\"{Mark} your grade is O\")\n",
    "elif(Mark>=81 and Mark<=90):\n",
    "    print(f\"{Mark} your grade is A+\")\n",
    "elif(Mark>=71 and Mark<=80):\n",
    "    print(f\"{Mark} your grade is A\")\n",
    "elif(Mark>=61 and Mark<=70):\n",
    "    print(f\"{Mark} your grade is B+\")\n",
    "elif(Mark>=51 and Mark<=60):\n",
    "    print(f\"{Mark} your grade is B\")\n",
    "elif(Mark<50):\n",
    "    print(f\"{Mark} your fail\")\n",
    "else:\n",
    "    print(\"Invalid mark\")"
   ]
  },
  {
   "cell_type": "markdown",
   "id": "7fc53bee-b527-47d5-a0aa-07523e448c13",
   "metadata": {},
   "source": [
    "### Find the greatest number"
   ]
  },
  {
   "cell_type": "code",
   "execution_count": 15,
   "id": "4152a08e-12f9-4034-9923-bde72fc8c37e",
   "metadata": {},
   "outputs": [
    {
     "name": "stdin",
     "output_type": "stream",
     "text": [
      "enter any number 77.9\n",
      "enter any number 65.8\n",
      "enter any number 72.9\n"
     ]
    },
    {
     "name": "stdout",
     "output_type": "stream",
     "text": [
      "a is the greatest number\n"
     ]
    }
   ],
   "source": [
    "a = float(input(\"enter any number\"))\n",
    "b = float(input(\"enter any number\"))\n",
    "c = float(input(\"enter any number\"))\n",
    "if(a>b and a>c):\n",
    "    print(\"a is the greatest number\")\n",
    "elif(b>a and b>c):\n",
    "    print(\"b is the greatest number\")\n",
    "elif(c>a and c>b):\n",
    "    print(\"c is the greatest number\")"
   ]
  },
  {
   "cell_type": "markdown",
   "id": "f8880f16-af72-48b7-81d5-db39f8105f73",
   "metadata": {},
   "source": [
    "## Vowels/consonant"
   ]
  },
  {
   "cell_type": "code",
   "execution_count": 16,
   "id": "90dbd26b-1a1f-4500-b573-665967b1d2a2",
   "metadata": {},
   "outputs": [
    {
     "name": "stdin",
     "output_type": "stream",
     "text": [
      "enter any letter E\n"
     ]
    },
    {
     "name": "stdout",
     "output_type": "stream",
     "text": [
      "vowels\n"
     ]
    }
   ],
   "source": [
    "char = input(\"enter any letter\").lower()\n",
    "if char in ('a','e','i','o','u'):\n",
    "    print(\"vowels\")\n",
    "else:\n",
    "    print(\"consonant\")"
   ]
  },
  {
   "cell_type": "code",
   "execution_count": 17,
   "id": "20dff683-aeb1-425a-a79b-f75353f37ba8",
   "metadata": {},
   "outputs": [
    {
     "name": "stdin",
     "output_type": "stream",
     "text": [
      "enter any name jayapriya\n"
     ]
    },
    {
     "name": "stdout",
     "output_type": "stream",
     "text": [
      "9\n",
      "<class 'str'>\n"
     ]
    }
   ],
   "source": [
    "a=input(\"enter any name\")\n",
    "print(len(a))\n",
    "print(type(a))"
   ]
  },
  {
   "cell_type": "code",
   "execution_count": 18,
   "id": "c2936d2d-e7e1-47f5-953d-b19e315f3aea",
   "metadata": {},
   "outputs": [
    {
     "name": "stdout",
     "output_type": "stream",
     "text": [
      "<class 'int'>\n",
      "9\n"
     ]
    }
   ],
   "source": [
    "a=\"jayapriya\"\n",
    "length=len(a)\n",
    "print(type(length))\n",
    "print(length)"
   ]
  },
  {
   "cell_type": "markdown",
   "id": "6db2ef3d-d3d4-498c-93cd-83c3d3c68011",
   "metadata": {},
   "source": [
    "## Password checker"
   ]
  },
  {
   "cell_type": "code",
   "execution_count": 19,
   "id": "90c0d0c5-e6f7-418b-b87d-b24dc49a96e7",
   "metadata": {},
   "outputs": [
    {
     "name": "stdin",
     "output_type": "stream",
     "text": [
      "enter your password jaya\n"
     ]
    },
    {
     "name": "stdout",
     "output_type": "stream",
     "text": [
      "jaya is weak password\n"
     ]
    }
   ],
   "source": [
    "password=input(\"enter your password\")\n",
    "if (len(password)<=8):\n",
    "    print(f\"{password} is weak password\")\n",
    "elif(len(password)>9):\n",
    "    print(f\"{password} ia a strong password\")"
   ]
  },
  {
   "cell_type": "code",
   "execution_count": 20,
   "id": "32b1d819-7a02-4599-935d-4f6145460e2f",
   "metadata": {},
   "outputs": [
    {
     "name": "stdin",
     "output_type": "stream",
     "text": [
      "enter any number 7\n",
      "enter any number 4\n",
      "enter any operator(+,-,/,*,%,:) -\n"
     ]
    },
    {
     "name": "stdout",
     "output_type": "stream",
     "text": [
      "7, 4 result is 3\n"
     ]
    }
   ],
   "source": [
    "num1=int(input(\"enter any number\"))\n",
    "num2=int(input(\"enter any number\"))\n",
    "op=input(\"enter any operator(+,-,/,*,%,:)\")\n",
    "if(op=='+'):\n",
    "    print(f\"{num1}, {num2} result is {num1+num2}\")\n",
    "elif(op=='-'):\n",
    "    print(f\"{num1}, {num2} result is {num1-num2}\")\n",
    "elif(op=='*'):\n",
    "    print(f\"{num1}, {num2} result is {num1*num2}\")\n",
    "elif(op=='/'):\n",
    "    print(f\"{num1}, {num2} result is {num1/num2}\")\n",
    "elif(op=='%'):\n",
    "    print(f\"{num1}, {num2} result is {num1%num2}\")\n",
    "else:\n",
    "    print(\"invalid operator,pls select valid operator\")"
   ]
  },
  {
   "cell_type": "markdown",
   "id": "83223072-82ff-4b07-905d-a722e37d77be",
   "metadata": {},
   "source": [
    "## Check the triangle is valid or not"
   ]
  },
  {
   "cell_type": "code",
   "execution_count": 22,
   "id": "0e1bc024-b4c4-4a3b-86c0-aecd6176b048",
   "metadata": {},
   "outputs": [
    {
     "name": "stdin",
     "output_type": "stream",
     "text": [
      "enter any number 30\n",
      "enter any number 60\n",
      "enter any number 90\n"
     ]
    },
    {
     "name": "stdout",
     "output_type": "stream",
     "text": [
      "valid triangle\n"
     ]
    }
   ],
   "source": [
    "angle1=int(input(\"enter any number\"))\n",
    "angle2=int(input(\"enter any number\"))\n",
    "angle3=int(input(\"enter any number\"))\n",
    "if(angle1+angle2+angle3==180):\n",
    "    print(\"valid triangle\")\n",
    "else:\n",
    "    print(\"invalid triangle\")"
   ]
  },
  {
   "cell_type": "code",
   "execution_count": null,
   "id": "8c5221d2-419d-4299-8ed4-e7f6f32dd0e4",
   "metadata": {},
   "outputs": [],
   "source": []
  }
 ],
 "metadata": {
  "kernelspec": {
   "display_name": "Python 3 (ipykernel)",
   "language": "python",
   "name": "python3"
  },
  "language_info": {
   "codemirror_mode": {
    "name": "ipython",
    "version": 3
   },
   "file_extension": ".py",
   "mimetype": "text/x-python",
   "name": "python",
   "nbconvert_exporter": "python",
   "pygments_lexer": "ipython3",
   "version": "3.13.5"
  }
 },
 "nbformat": 4,
 "nbformat_minor": 5
}
